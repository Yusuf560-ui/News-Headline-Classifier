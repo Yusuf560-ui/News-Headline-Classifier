{
  "cells": [
    {
      "cell_type": "code",
      "execution_count": null,
      "metadata": {
        "colab": {
          "base_uri": "https://localhost:8080/"
        },
        "id": "Sojs0fYLhe_A",
        "outputId": "86639aa8-908d-49d8-dede-b95cc42bf02b"
      },
      "outputs": [
        {
          "name": "stdout",
          "output_type": "stream",
          "text": [
            "Drive already mounted at /content/drive; to attempt to forcibly remount, call drive.mount(\"/content/drive\", force_remount=True).\n"
          ]
        }
      ],
      "source": [
        "from google.colab import drive\n",
        "drive.mount(\"/content/drive\")"
      ]
    },
    {
      "cell_type": "code",
      "execution_count": null,
      "metadata": {
        "id": "JFgHkJhXnqKg"
      },
      "outputs": [],
      "source": [
        "import numpy as np\n",
        "import pandas as pd\n",
        "import matplotlib.pyplot as plt\n",
        "import seaborn as sns"
      ]
    },
    {
      "cell_type": "markdown",
      "metadata": {
        "id": "9wkkMbZSohyR"
      },
      "source": [
        "# Loading the dataset"
      ]
    },
    {
      "cell_type": "code",
      "execution_count": null,
      "metadata": {
        "id": "J9b95M6Xovpt"
      },
      "outputs": [],
      "source": [
        "raw_dataset = pd.read_csv(\"/content/drive/MyDrive/raw-nairaland-headlines.csv\")"
      ]
    },
    {
      "cell_type": "markdown",
      "metadata": {
        "id": "dniYFaARsnUY"
      },
      "source": [
        "# Exploratory Data Analysis"
      ]
    },
    {
      "cell_type": "code",
      "execution_count": null,
      "metadata": {
        "colab": {
          "base_uri": "https://localhost:8080/",
          "height": 206
        },
        "id": "AKVXjzKdoXwR",
        "outputId": "e9d77205-2d2c-4e2a-81eb-14631f74dcd1"
      },
      "outputs": [
        {
          "data": {
            "application/vnd.google.colaboratory.intrinsic+json": {
              "summary": "{\n  \"name\": \"raw_dataset\",\n  \"rows\": 5739,\n  \"fields\": [\n    {\n      \"column\": \"headline\",\n      \"properties\": {\n        \"dtype\": \"string\",\n        \"num_unique_values\": 5666,\n        \"samples\": [\n          \"Don't Let Your Daughter Out In The Afternoon\",\n          \"Movies You Don't  Ever Want To See Again And Why?\",\n          \"How To Get Your Music On Over 100 Music Blogs Including 360nobs For FREE\"\n        ],\n        \"semantic_type\": \"\",\n        \"description\": \"\"\n      }\n    },\n    {\n      \"column\": \"link\",\n      \"properties\": {\n        \"dtype\": \"string\",\n        \"num_unique_values\": 5739,\n        \"samples\": [\n          \"/8515326/fosad-tasks-efcc-thoroughly-investigate\",\n          \"/7870770/only-verified-bet365-users\",\n          \"/8373833/playstation-computer-tv-phone-xbox\"\n        ],\n        \"semantic_type\": \"\",\n        \"description\": \"\"\n      }\n    },\n    {\n      \"column\": \"category\",\n      \"properties\": {\n        \"dtype\": \"category\",\n        \"num_unique_values\": 6,\n        \"samples\": [\n          \"politics\",\n          \"business\",\n          \"music-radio\"\n        ],\n        \"semantic_type\": \"\",\n        \"description\": \"\"\n      }\n    }\n  ]\n}",
              "type": "dataframe",
              "variable_name": "raw_dataset"
            },
            "text/html": [
              "\n",
              "  <div id=\"df-6abf30b8-dbfe-438b-a8d3-114c8d110e41\" class=\"colab-df-container\">\n",
              "    <div>\n",
              "<style scoped>\n",
              "    .dataframe tbody tr th:only-of-type {\n",
              "        vertical-align: middle;\n",
              "    }\n",
              "\n",
              "    .dataframe tbody tr th {\n",
              "        vertical-align: top;\n",
              "    }\n",
              "\n",
              "    .dataframe thead th {\n",
              "        text-align: right;\n",
              "    }\n",
              "</style>\n",
              "<table border=\"1\" class=\"dataframe\">\n",
              "  <thead>\n",
              "    <tr style=\"text-align: right;\">\n",
              "      <th></th>\n",
              "      <th>headline</th>\n",
              "      <th>link</th>\n",
              "      <th>category</th>\n",
              "    </tr>\n",
              "  </thead>\n",
              "  <tbody>\n",
              "    <tr>\n",
              "      <th>0</th>\n",
              "      <td>A Total Ban On The Use Of Ethnic Slurs On Nair...</td>\n",
              "      <td>/7631314/total-ban-use-ethnic-slurs</td>\n",
              "      <td>politics</td>\n",
              "    </tr>\n",
              "    <tr>\n",
              "      <th>1</th>\n",
              "      <td>UK Court Rejects Ozekhome’s Request To Transfe...</td>\n",
              "      <td>/8519537/uk-court-rejects-ozekhomes-request</td>\n",
              "      <td>politics</td>\n",
              "    </tr>\n",
              "    <tr>\n",
              "      <th>2</th>\n",
              "      <td>No Going Back On Biafra – MASSOB Declares Afte...</td>\n",
              "      <td>/8519500/no-going-back-biafra-massob</td>\n",
              "      <td>politics</td>\n",
              "    </tr>\n",
              "    <tr>\n",
              "      <th>3</th>\n",
              "      <td>Oseni Rufai Calls Out Double Standards Of Tinu...</td>\n",
              "      <td>/8519558/oseni-rufai-calls-out-double</td>\n",
              "      <td>politics</td>\n",
              "    </tr>\n",
              "    <tr>\n",
              "      <th>4</th>\n",
              "      <td>Bandits Openly Display Ammunition During Peace...</td>\n",
              "      <td>/8519473/bandits-openly-display-ammunition-during</td>\n",
              "      <td>politics</td>\n",
              "    </tr>\n",
              "  </tbody>\n",
              "</table>\n",
              "</div>\n",
              "    <div class=\"colab-df-buttons\">\n",
              "\n",
              "  <div class=\"colab-df-container\">\n",
              "    <button class=\"colab-df-convert\" onclick=\"convertToInteractive('df-6abf30b8-dbfe-438b-a8d3-114c8d110e41')\"\n",
              "            title=\"Convert this dataframe to an interactive table.\"\n",
              "            style=\"display:none;\">\n",
              "\n",
              "  <svg xmlns=\"http://www.w3.org/2000/svg\" height=\"24px\" viewBox=\"0 -960 960 960\">\n",
              "    <path d=\"M120-120v-720h720v720H120Zm60-500h600v-160H180v160Zm220 220h160v-160H400v160Zm0 220h160v-160H400v160ZM180-400h160v-160H180v160Zm440 0h160v-160H620v160ZM180-180h160v-160H180v160Zm440 0h160v-160H620v160Z\"/>\n",
              "  </svg>\n",
              "    </button>\n",
              "\n",
              "  <style>\n",
              "    .colab-df-container {\n",
              "      display:flex;\n",
              "      gap: 12px;\n",
              "    }\n",
              "\n",
              "    .colab-df-convert {\n",
              "      background-color: #E8F0FE;\n",
              "      border: none;\n",
              "      border-radius: 50%;\n",
              "      cursor: pointer;\n",
              "      display: none;\n",
              "      fill: #1967D2;\n",
              "      height: 32px;\n",
              "      padding: 0 0 0 0;\n",
              "      width: 32px;\n",
              "    }\n",
              "\n",
              "    .colab-df-convert:hover {\n",
              "      background-color: #E2EBFA;\n",
              "      box-shadow: 0px 1px 2px rgba(60, 64, 67, 0.3), 0px 1px 3px 1px rgba(60, 64, 67, 0.15);\n",
              "      fill: #174EA6;\n",
              "    }\n",
              "\n",
              "    .colab-df-buttons div {\n",
              "      margin-bottom: 4px;\n",
              "    }\n",
              "\n",
              "    [theme=dark] .colab-df-convert {\n",
              "      background-color: #3B4455;\n",
              "      fill: #D2E3FC;\n",
              "    }\n",
              "\n",
              "    [theme=dark] .colab-df-convert:hover {\n",
              "      background-color: #434B5C;\n",
              "      box-shadow: 0px 1px 3px 1px rgba(0, 0, 0, 0.15);\n",
              "      filter: drop-shadow(0px 1px 2px rgba(0, 0, 0, 0.3));\n",
              "      fill: #FFFFFF;\n",
              "    }\n",
              "  </style>\n",
              "\n",
              "    <script>\n",
              "      const buttonEl =\n",
              "        document.querySelector('#df-6abf30b8-dbfe-438b-a8d3-114c8d110e41 button.colab-df-convert');\n",
              "      buttonEl.style.display =\n",
              "        google.colab.kernel.accessAllowed ? 'block' : 'none';\n",
              "\n",
              "      async function convertToInteractive(key) {\n",
              "        const element = document.querySelector('#df-6abf30b8-dbfe-438b-a8d3-114c8d110e41');\n",
              "        const dataTable =\n",
              "          await google.colab.kernel.invokeFunction('convertToInteractive',\n",
              "                                                    [key], {});\n",
              "        if (!dataTable) return;\n",
              "\n",
              "        const docLinkHtml = 'Like what you see? Visit the ' +\n",
              "          '<a target=\"_blank\" href=https://colab.research.google.com/notebooks/data_table.ipynb>data table notebook</a>'\n",
              "          + ' to learn more about interactive tables.';\n",
              "        element.innerHTML = '';\n",
              "        dataTable['output_type'] = 'display_data';\n",
              "        await google.colab.output.renderOutput(dataTable, element);\n",
              "        const docLink = document.createElement('div');\n",
              "        docLink.innerHTML = docLinkHtml;\n",
              "        element.appendChild(docLink);\n",
              "      }\n",
              "    </script>\n",
              "  </div>\n",
              "\n",
              "\n",
              "    <div id=\"df-5e88cdac-1079-4184-a524-7526f865be3e\">\n",
              "      <button class=\"colab-df-quickchart\" onclick=\"quickchart('df-5e88cdac-1079-4184-a524-7526f865be3e')\"\n",
              "                title=\"Suggest charts\"\n",
              "                style=\"display:none;\">\n",
              "\n",
              "<svg xmlns=\"http://www.w3.org/2000/svg\" height=\"24px\"viewBox=\"0 0 24 24\"\n",
              "     width=\"24px\">\n",
              "    <g>\n",
              "        <path d=\"M19 3H5c-1.1 0-2 .9-2 2v14c0 1.1.9 2 2 2h14c1.1 0 2-.9 2-2V5c0-1.1-.9-2-2-2zM9 17H7v-7h2v7zm4 0h-2V7h2v10zm4 0h-2v-4h2v4z\"/>\n",
              "    </g>\n",
              "</svg>\n",
              "      </button>\n",
              "\n",
              "<style>\n",
              "  .colab-df-quickchart {\n",
              "      --bg-color: #E8F0FE;\n",
              "      --fill-color: #1967D2;\n",
              "      --hover-bg-color: #E2EBFA;\n",
              "      --hover-fill-color: #174EA6;\n",
              "      --disabled-fill-color: #AAA;\n",
              "      --disabled-bg-color: #DDD;\n",
              "  }\n",
              "\n",
              "  [theme=dark] .colab-df-quickchart {\n",
              "      --bg-color: #3B4455;\n",
              "      --fill-color: #D2E3FC;\n",
              "      --hover-bg-color: #434B5C;\n",
              "      --hover-fill-color: #FFFFFF;\n",
              "      --disabled-bg-color: #3B4455;\n",
              "      --disabled-fill-color: #666;\n",
              "  }\n",
              "\n",
              "  .colab-df-quickchart {\n",
              "    background-color: var(--bg-color);\n",
              "    border: none;\n",
              "    border-radius: 50%;\n",
              "    cursor: pointer;\n",
              "    display: none;\n",
              "    fill: var(--fill-color);\n",
              "    height: 32px;\n",
              "    padding: 0;\n",
              "    width: 32px;\n",
              "  }\n",
              "\n",
              "  .colab-df-quickchart:hover {\n",
              "    background-color: var(--hover-bg-color);\n",
              "    box-shadow: 0 1px 2px rgba(60, 64, 67, 0.3), 0 1px 3px 1px rgba(60, 64, 67, 0.15);\n",
              "    fill: var(--button-hover-fill-color);\n",
              "  }\n",
              "\n",
              "  .colab-df-quickchart-complete:disabled,\n",
              "  .colab-df-quickchart-complete:disabled:hover {\n",
              "    background-color: var(--disabled-bg-color);\n",
              "    fill: var(--disabled-fill-color);\n",
              "    box-shadow: none;\n",
              "  }\n",
              "\n",
              "  .colab-df-spinner {\n",
              "    border: 2px solid var(--fill-color);\n",
              "    border-color: transparent;\n",
              "    border-bottom-color: var(--fill-color);\n",
              "    animation:\n",
              "      spin 1s steps(1) infinite;\n",
              "  }\n",
              "\n",
              "  @keyframes spin {\n",
              "    0% {\n",
              "      border-color: transparent;\n",
              "      border-bottom-color: var(--fill-color);\n",
              "      border-left-color: var(--fill-color);\n",
              "    }\n",
              "    20% {\n",
              "      border-color: transparent;\n",
              "      border-left-color: var(--fill-color);\n",
              "      border-top-color: var(--fill-color);\n",
              "    }\n",
              "    30% {\n",
              "      border-color: transparent;\n",
              "      border-left-color: var(--fill-color);\n",
              "      border-top-color: var(--fill-color);\n",
              "      border-right-color: var(--fill-color);\n",
              "    }\n",
              "    40% {\n",
              "      border-color: transparent;\n",
              "      border-right-color: var(--fill-color);\n",
              "      border-top-color: var(--fill-color);\n",
              "    }\n",
              "    60% {\n",
              "      border-color: transparent;\n",
              "      border-right-color: var(--fill-color);\n",
              "    }\n",
              "    80% {\n",
              "      border-color: transparent;\n",
              "      border-right-color: var(--fill-color);\n",
              "      border-bottom-color: var(--fill-color);\n",
              "    }\n",
              "    90% {\n",
              "      border-color: transparent;\n",
              "      border-bottom-color: var(--fill-color);\n",
              "    }\n",
              "  }\n",
              "</style>\n",
              "\n",
              "      <script>\n",
              "        async function quickchart(key) {\n",
              "          const quickchartButtonEl =\n",
              "            document.querySelector('#' + key + ' button');\n",
              "          quickchartButtonEl.disabled = true;  // To prevent multiple clicks.\n",
              "          quickchartButtonEl.classList.add('colab-df-spinner');\n",
              "          try {\n",
              "            const charts = await google.colab.kernel.invokeFunction(\n",
              "                'suggestCharts', [key], {});\n",
              "          } catch (error) {\n",
              "            console.error('Error during call to suggestCharts:', error);\n",
              "          }\n",
              "          quickchartButtonEl.classList.remove('colab-df-spinner');\n",
              "          quickchartButtonEl.classList.add('colab-df-quickchart-complete');\n",
              "        }\n",
              "        (() => {\n",
              "          let quickchartButtonEl =\n",
              "            document.querySelector('#df-5e88cdac-1079-4184-a524-7526f865be3e button');\n",
              "          quickchartButtonEl.style.display =\n",
              "            google.colab.kernel.accessAllowed ? 'block' : 'none';\n",
              "        })();\n",
              "      </script>\n",
              "    </div>\n",
              "\n",
              "    </div>\n",
              "  </div>\n"
            ],
            "text/plain": [
              "                                            headline  \\\n",
              "0  A Total Ban On The Use Of Ethnic Slurs On Nair...   \n",
              "1  UK Court Rejects Ozekhome’s Request To Transfe...   \n",
              "2  No Going Back On Biafra – MASSOB Declares Afte...   \n",
              "3  Oseni Rufai Calls Out Double Standards Of Tinu...   \n",
              "4  Bandits Openly Display Ammunition During Peace...   \n",
              "\n",
              "                                                link  category  \n",
              "0                /7631314/total-ban-use-ethnic-slurs  politics  \n",
              "1        /8519537/uk-court-rejects-ozekhomes-request  politics  \n",
              "2               /8519500/no-going-back-biafra-massob  politics  \n",
              "3              /8519558/oseni-rufai-calls-out-double  politics  \n",
              "4  /8519473/bandits-openly-display-ammunition-during  politics  "
            ]
          },
          "execution_count": 177,
          "metadata": {},
          "output_type": "execute_result"
        }
      ],
      "source": [
        "raw_dataset.head()"
      ]
    },
    {
      "cell_type": "code",
      "execution_count": null,
      "metadata": {
        "colab": {
          "base_uri": "https://localhost:8080/"
        },
        "id": "4cYKmdMsplaN",
        "outputId": "7f140158-346f-45b0-f40f-17a2ace865fd"
      },
      "outputs": [
        {
          "name": "stdout",
          "output_type": "stream",
          "text": [
            "<class 'pandas.core.frame.DataFrame'>\n",
            "RangeIndex: 5739 entries, 0 to 5738\n",
            "Data columns (total 3 columns):\n",
            " #   Column    Non-Null Count  Dtype \n",
            "---  ------    --------------  ----- \n",
            " 0   headline  5738 non-null   object\n",
            " 1   link      5739 non-null   object\n",
            " 2   category  5739 non-null   object\n",
            "dtypes: object(3)\n",
            "memory usage: 134.6+ KB\n"
          ]
        }
      ],
      "source": [
        "raw_dataset.info()"
      ]
    },
    {
      "cell_type": "code",
      "execution_count": null,
      "metadata": {
        "id": "VKkSYQhzpufZ"
      },
      "outputs": [],
      "source": [
        "category_counts = raw_dataset['category'].value_counts()"
      ]
    },
    {
      "cell_type": "code",
      "execution_count": null,
      "metadata": {
        "colab": {
          "base_uri": "https://localhost:8080/",
          "height": 304
        },
        "id": "TJ3atbPFu2kW",
        "outputId": "47dde34e-ac1c-4b32-d22a-f7aaa61def9b"
      },
      "outputs": [
        {
          "data": {
            "text/html": [
              "<div>\n",
              "<style scoped>\n",
              "    .dataframe tbody tr th:only-of-type {\n",
              "        vertical-align: middle;\n",
              "    }\n",
              "\n",
              "    .dataframe tbody tr th {\n",
              "        vertical-align: top;\n",
              "    }\n",
              "\n",
              "    .dataframe thead th {\n",
              "        text-align: right;\n",
              "    }\n",
              "</style>\n",
              "<table border=\"1\" class=\"dataframe\">\n",
              "  <thead>\n",
              "    <tr style=\"text-align: right;\">\n",
              "      <th></th>\n",
              "      <th>count</th>\n",
              "    </tr>\n",
              "    <tr>\n",
              "      <th>category</th>\n",
              "      <th></th>\n",
              "    </tr>\n",
              "  </thead>\n",
              "  <tbody>\n",
              "    <tr>\n",
              "      <th>politics</th>\n",
              "      <td>1218</td>\n",
              "    </tr>\n",
              "    <tr>\n",
              "      <th>sports</th>\n",
              "      <td>1085</td>\n",
              "    </tr>\n",
              "    <tr>\n",
              "      <th>business</th>\n",
              "      <td>1011</td>\n",
              "    </tr>\n",
              "    <tr>\n",
              "      <th>tv-movies</th>\n",
              "      <td>865</td>\n",
              "    </tr>\n",
              "    <tr>\n",
              "      <th>music-radio</th>\n",
              "      <td>856</td>\n",
              "    </tr>\n",
              "    <tr>\n",
              "      <th>education</th>\n",
              "      <td>704</td>\n",
              "    </tr>\n",
              "  </tbody>\n",
              "</table>\n",
              "</div><br><label><b>dtype:</b> int64</label>"
            ],
            "text/plain": [
              "category\n",
              "politics       1218\n",
              "sports         1085\n",
              "business       1011\n",
              "tv-movies       865\n",
              "music-radio     856\n",
              "education       704\n",
              "Name: count, dtype: int64"
            ]
          },
          "execution_count": 180,
          "metadata": {},
          "output_type": "execute_result"
        }
      ],
      "source": [
        "category_counts"
      ]
    },
    {
      "cell_type": "code",
      "execution_count": null,
      "metadata": {
        "colab": {
          "base_uri": "https://localhost:8080/",
          "height": 178
        },
        "id": "z0X8atCrp6qs",
        "outputId": "4fe1f5a8-bf79-4482-9e14-52bb612c59e1"
      },
      "outputs": [
        {
          "data": {
            "text/html": [
              "<div>\n",
              "<style scoped>\n",
              "    .dataframe tbody tr th:only-of-type {\n",
              "        vertical-align: middle;\n",
              "    }\n",
              "\n",
              "    .dataframe tbody tr th {\n",
              "        vertical-align: top;\n",
              "    }\n",
              "\n",
              "    .dataframe thead th {\n",
              "        text-align: right;\n",
              "    }\n",
              "</style>\n",
              "<table border=\"1\" class=\"dataframe\">\n",
              "  <thead>\n",
              "    <tr style=\"text-align: right;\">\n",
              "      <th></th>\n",
              "      <th>0</th>\n",
              "    </tr>\n",
              "  </thead>\n",
              "  <tbody>\n",
              "    <tr>\n",
              "      <th>headline</th>\n",
              "      <td>1</td>\n",
              "    </tr>\n",
              "    <tr>\n",
              "      <th>link</th>\n",
              "      <td>0</td>\n",
              "    </tr>\n",
              "    <tr>\n",
              "      <th>category</th>\n",
              "      <td>0</td>\n",
              "    </tr>\n",
              "  </tbody>\n",
              "</table>\n",
              "</div><br><label><b>dtype:</b> int64</label>"
            ],
            "text/plain": [
              "headline    1\n",
              "link        0\n",
              "category    0\n",
              "dtype: int64"
            ]
          },
          "execution_count": 181,
          "metadata": {},
          "output_type": "execute_result"
        }
      ],
      "source": [
        "raw_dataset.isna().sum()"
      ]
    },
    {
      "cell_type": "code",
      "execution_count": null,
      "metadata": {
        "colab": {
          "base_uri": "https://localhost:8080/",
          "height": 539
        },
        "id": "ygT-0ZHXsEUc",
        "outputId": "e35db5d8-18ff-497f-c97f-f1d39da9b4c6"
      },
      "outputs": [
        {
          "data": {
            "image/png": "[encoded data removed]",
            "text/plain": [
              "<Figure size 640x480 with 1 Axes>"
            ]
          },
          "metadata": {},
          "output_type": "display_data"
        }
      ],
      "source": [
        "category_counts.plot(kind='bar', title='Category Counts')\n",
        "plt.xlabel('Category')\n",
        "plt.ylabel('Count')\n",
        "plt.show()"
      ]
    },
    {
      "cell_type": "code",
      "execution_count": null,
      "metadata": {
        "colab": {
          "base_uri": "https://localhost:8080/",
          "height": 675
        },
        "id": "wF_SYI_V-bXB",
        "outputId": "4e5de0ed-69e5-4fdb-ff5d-43b26f23b791"
      },
      "outputs": [
        {
          "data": {
            "image/png": "[encoded data removed]",
            "text/plain": [
              "<Figure size 800x800 with 1 Axes>"
            ]
          },
          "metadata": {},
          "output_type": "display_data"
        }
      ],
      "source": [
        "plt.figure(figsize=(8, 8))\n",
        "plt.pie(category_counts, labels=category_counts.index, autopct='%1.1f%%')\n",
        "plt.title('Dataset Distribution by Category')\n",
        "plt.show()"
      ]
    },
    {
      "cell_type": "markdown",
      "metadata": {
        "id": "PF5OJ_lDvMFU"
      },
      "source": [
        "## Data Cleaning"
      ]
    },
    {
      "cell_type": "code",
      "execution_count": null,
      "metadata": {
        "id": "3iEDN9Fyvknx"
      },
      "outputs": [],
      "source": [
        "dataset = raw_dataset.copy()"
      ]
    },
    {
      "cell_type": "code",
      "execution_count": null,
      "metadata": {
        "id": "6YJ3Zaw-wQpJ"
      },
      "outputs": [],
      "source": [
        "dataset = dataset.drop(\"link\", axis=1)"
      ]
    },
    {
      "cell_type": "markdown",
      "metadata": {
        "id": "ENvB1akWvgLq"
      },
      "source": [
        "Dropping missing headline"
      ]
    },
    {
      "cell_type": "code",
      "execution_count": null,
      "metadata": {
        "id": "Dnqo2hDtvp7V"
      },
      "outputs": [],
      "source": [
        "dataset = dataset.dropna()"
      ]
    },
    {
      "cell_type": "code",
      "execution_count": null,
      "metadata": {
        "colab": {
          "base_uri": "https://localhost:8080/",
          "height": 147
        },
        "id": "i-6NgwL0vsiz",
        "outputId": "eee47d17-dbd1-4fbc-cde7-bdf14c2b8436"
      },
      "outputs": [
        {
          "data": {
            "text/html": [
              "<div>\n",
              "<style scoped>\n",
              "    .dataframe tbody tr th:only-of-type {\n",
              "        vertical-align: middle;\n",
              "    }\n",
              "\n",
              "    .dataframe tbody tr th {\n",
              "        vertical-align: top;\n",
              "    }\n",
              "\n",
              "    .dataframe thead th {\n",
              "        text-align: right;\n",
              "    }\n",
              "</style>\n",
              "<table border=\"1\" class=\"dataframe\">\n",
              "  <thead>\n",
              "    <tr style=\"text-align: right;\">\n",
              "      <th></th>\n",
              "      <th>0</th>\n",
              "    </tr>\n",
              "  </thead>\n",
              "  <tbody>\n",
              "    <tr>\n",
              "      <th>headline</th>\n",
              "      <td>0</td>\n",
              "    </tr>\n",
              "    <tr>\n",
              "      <th>category</th>\n",
              "      <td>0</td>\n",
              "    </tr>\n",
              "  </tbody>\n",
              "</table>\n",
              "</div><br><label><b>dtype:</b> int64</label>"
            ],
            "text/plain": [
              "headline    0\n",
              "category    0\n",
              "dtype: int64"
            ]
          },
          "execution_count": 187,
          "metadata": {},
          "output_type": "execute_result"
        }
      ],
      "source": [
        "dataset.isna().sum()"
      ]
    },
    {
      "cell_type": "markdown",
      "metadata": {
        "id": "9z-LDygBypBR"
      },
      "source": [
        "Convering headlines to lowercase"
      ]
    },
    {
      "cell_type": "code",
      "execution_count": null,
      "metadata": {
        "id": "PVhedo_Eyhwt"
      },
      "outputs": [],
      "source": [
        "dataset['headline'] = dataset['headline'].str.lower()"
      ]
    },
    {
      "cell_type": "markdown",
      "metadata": {
        "id": "nRuPuKF9vxiI"
      },
      "source": [
        "Handling duplicates"
      ]
    },
    {
      "cell_type": "code",
      "execution_count": null,
      "metadata": {
        "colab": {
          "base_uri": "https://localhost:8080/",
          "height": 424
        },
        "id": "CFRrRsf7vuJi",
        "outputId": "639c514b-f872-43ea-884d-bee6c2b0a666"
      },
      "outputs": [
        {
          "data": {
            "application/vnd.google.colaboratory.intrinsic+json": {
              "summary": "{\n  \"name\": \"dataset[dataset\",\n  \"rows\": 73,\n  \"fields\": [\n    {\n      \"column\": \"headline\",\n      \"properties\": {\n        \"dtype\": \"string\",\n        \"num_unique_values\": 63,\n        \"samples\": [\n          \"tekno \\u2013 gon gon\",\n          \"dj built jungle party non stop mixtape\",\n          \"court hears nnamdi kanu\\u2019s motion seeking his transfer to national hospital\"\n        ],\n        \"semantic_type\": \"\",\n        \"description\": \"\"\n      }\n    },\n    {\n      \"column\": \"category\",\n      \"properties\": {\n        \"dtype\": \"category\",\n        \"num_unique_values\": 6,\n        \"samples\": [\n          \"politics\",\n          \"business\",\n          \"music-radio\"\n        ],\n        \"semantic_type\": \"\",\n        \"description\": \"\"\n      }\n    }\n  ]\n}",
              "type": "dataframe"
            },
            "text/html": [
              "\n",
              "  <div id=\"df-b7754726-7999-4e57-97f7-2dfad05551f0\" class=\"colab-df-container\">\n",
              "    <div>\n",
              "<style scoped>\n",
              "    .dataframe tbody tr th:only-of-type {\n",
              "        vertical-align: middle;\n",
              "    }\n",
              "\n",
              "    .dataframe tbody tr th {\n",
              "        vertical-align: top;\n",
              "    }\n",
              "\n",
              "    .dataframe thead th {\n",
              "        text-align: right;\n",
              "    }\n",
              "</style>\n",
              "<table border=\"1\" class=\"dataframe\">\n",
              "  <thead>\n",
              "    <tr style=\"text-align: right;\">\n",
              "      <th></th>\n",
              "      <th>headline</th>\n",
              "      <th>category</th>\n",
              "    </tr>\n",
              "  </thead>\n",
              "  <tbody>\n",
              "    <tr>\n",
              "      <th>53</th>\n",
              "      <td>court hears nnamdi kanu’s motion seeking his t...</td>\n",
              "      <td>politics</td>\n",
              "    </tr>\n",
              "    <tr>\n",
              "      <th>109</th>\n",
              "      <td>sgg strategizes in obosi as okoma vows 130-war...</td>\n",
              "      <td>politics</td>\n",
              "    </tr>\n",
              "    <tr>\n",
              "      <th>110</th>\n",
              "      <td>sgg strategizes in obosi as okoma vows 130-war...</td>\n",
              "      <td>politics</td>\n",
              "    </tr>\n",
              "    <tr>\n",
              "      <th>180</th>\n",
              "      <td>hon. francis barthlomew chima (omobarca) joins...</td>\n",
              "      <td>politics</td>\n",
              "    </tr>\n",
              "    <tr>\n",
              "      <th>191</th>\n",
              "      <td>fresh legal firestorm over nnamdi kanu’s trial...</td>\n",
              "      <td>politics</td>\n",
              "    </tr>\n",
              "    <tr>\n",
              "      <th>...</th>\n",
              "      <td>...</td>\n",
              "      <td>...</td>\n",
              "    </tr>\n",
              "    <tr>\n",
              "      <th>5405</th>\n",
              "      <td>best inspirational love songs of all time</td>\n",
              "      <td>music-radio</td>\n",
              "    </tr>\n",
              "    <tr>\n",
              "      <th>5470</th>\n",
              "      <td>fedozky - godfather (prod. by kaladmagicfinger)</td>\n",
              "      <td>music-radio</td>\n",
              "    </tr>\n",
              "    <tr>\n",
              "      <th>5485</th>\n",
              "      <td>how to grow from 0 to 34,000 monthly spotify l...</td>\n",
              "      <td>music-radio</td>\n",
              "    </tr>\n",
              "    <tr>\n",
              "      <th>5497</th>\n",
              "      <td>tekno – gon gon</td>\n",
              "      <td>music-radio</td>\n",
              "    </tr>\n",
              "    <tr>\n",
              "      <th>5662</th>\n",
              "      <td>dj gambit sensational exclusive party jamz mix...</td>\n",
              "      <td>music-radio</td>\n",
              "    </tr>\n",
              "  </tbody>\n",
              "</table>\n",
              "<p>73 rows × 2 columns</p>\n",
              "</div>\n",
              "    <div class=\"colab-df-buttons\">\n",
              "\n",
              "  <div class=\"colab-df-container\">\n",
              "    <button class=\"colab-df-convert\" onclick=\"convertToInteractive('df-b7754726-7999-4e57-97f7-2dfad05551f0')\"\n",
              "            title=\"Convert this dataframe to an interactive table.\"\n",
              "            style=\"display:none;\">\n",
              "\n",
              "  <svg xmlns=\"http://www.w3.org/2000/svg\" height=\"24px\" viewBox=\"0 -960 960 960\">\n",
              "    <path d=\"M120-120v-720h720v720H120Zm60-500h600v-160H180v160Zm220 220h160v-160H400v160Zm0 220h160v-160H400v160ZM180-400h160v-160H180v160Zm440 0h160v-160H620v160ZM180-180h160v-160H180v160Zm440 0h160v-160H620v160Z\"/>\n",
              "  </svg>\n",
              "    </button>\n",
              "\n",
              "  <style>\n",
              "    .colab-df-container {\n",
              "      display:flex;\n",
              "      gap: 12px;\n",
              "    }\n",
              "\n",
              "    .colab-df-convert {\n",
              "      background-color: #E8F0FE;\n",
              "      border: none;\n",
              "      border-radius: 50%;\n",
              "      cursor: pointer;\n",
              "      display: none;\n",
              "      fill: #1967D2;\n",
              "      height: 32px;\n",
              "      padding: 0 0 0 0;\n",
              "      width: 32px;\n",
              "    }\n",
              "\n",
              "    .colab-df-convert:hover {\n",
              "      background-color: #E2EBFA;\n",
              "      box-shadow: 0px 1px 2px rgba(60, 64, 67, 0.3), 0px 1px 3px 1px rgba(60, 64, 67, 0.15);\n",
              "      fill: #174EA6;\n",
              "    }\n",
              "\n",
              "    .colab-df-buttons div {\n",
              "      margin-bottom: 4px;\n",
              "    }\n",
              "\n",
              "    [theme=dark] .colab-df-convert {\n",
              "      background-color: #3B4455;\n",
              "      fill: #D2E3FC;\n",
              "    }\n",
              "\n",
              "    [theme=dark] .colab-df-convert:hover {\n",
              "      background-color: #434B5C;\n",
              "      box-shadow: 0px 1px 3px 1px rgba(0, 0, 0, 0.15);\n",
              "      filter: drop-shadow(0px 1px 2px rgba(0, 0, 0, 0.3));\n",
              "      fill: #FFFFFF;\n",
              "    }\n",
              "  </style>\n",
              "\n",
              "    <script>\n",
              "      const buttonEl =\n",
              "        document.querySelector('#df-b7754726-7999-4e57-97f7-2dfad05551f0 button.colab-df-convert');\n",
              "      buttonEl.style.display =\n",
              "        google.colab.kernel.accessAllowed ? 'block' : 'none';\n",
              "\n",
              "      async function convertToInteractive(key) {\n",
              "        const element = document.querySelector('#df-b7754726-7999-4e57-97f7-2dfad05551f0');\n",
              "        const dataTable =\n",
              "          await google.colab.kernel.invokeFunction('convertToInteractive',\n",
              "                                                    [key], {});\n",
              "        if (!dataTable) return;\n",
              "\n",
              "        const docLinkHtml = 'Like what you see? Visit the ' +\n",
              "          '<a target=\"_blank\" href=https://colab.research.google.com/notebooks/data_table.ipynb>data table notebook</a>'\n",
              "          + ' to learn more about interactive tables.';\n",
              "        element.innerHTML = '';\n",
              "        dataTable['output_type'] = 'display_data';\n",
              "        await google.colab.output.renderOutput(dataTable, element);\n",
              "        const docLink = document.createElement('div');\n",
              "        docLink.innerHTML = docLinkHtml;\n",
              "        element.appendChild(docLink);\n",
              "      }\n",
              "    </script>\n",
              "  </div>\n",
              "\n",
              "\n",
              "    <div id=\"df-064aa1f9-0298-470c-9d5a-063e1af8dfba\">\n",
              "      <button class=\"colab-df-quickchart\" onclick=\"quickchart('df-064aa1f9-0298-470c-9d5a-063e1af8dfba')\"\n",
              "                title=\"Suggest charts\"\n",
              "                style=\"display:none;\">\n",
              "\n",
              "<svg xmlns=\"http://www.w3.org/2000/svg\" height=\"24px\"viewBox=\"0 0 24 24\"\n",
              "     width=\"24px\">\n",
              "    <g>\n",
              "        <path d=\"M19 3H5c-1.1 0-2 .9-2 2v14c0 1.1.9 2 2 2h14c1.1 0 2-.9 2-2V5c0-1.1-.9-2-2-2zM9 17H7v-7h2v7zm4 0h-2V7h2v10zm4 0h-2v-4h2v4z\"/>\n",
              "    </g>\n",
              "</svg>\n",
              "      </button>\n",
              "\n",
              "<style>\n",
              "  .colab-df-quickchart {\n",
              "      --bg-color: #E8F0FE;\n",
              "      --fill-color: #1967D2;\n",
              "      --hover-bg-color: #E2EBFA;\n",
              "      --hover-fill-color: #174EA6;\n",
              "      --disabled-fill-color: #AAA;\n",
              "      --disabled-bg-color: #DDD;\n",
              "  }\n",
              "\n",
              "  [theme=dark] .colab-df-quickchart {\n",
              "      --bg-color: #3B4455;\n",
              "      --fill-color: #D2E3FC;\n",
              "      --hover-bg-color: #434B5C;\n",
              "      --hover-fill-color: #FFFFFF;\n",
              "      --disabled-bg-color: #3B4455;\n",
              "      --disabled-fill-color: #666;\n",
              "  }\n",
              "\n",
              "  .colab-df-quickchart {\n",
              "    background-color: var(--bg-color);\n",
              "    border: none;\n",
              "    border-radius: 50%;\n",
              "    cursor: pointer;\n",
              "    display: none;\n",
              "    fill: var(--fill-color);\n",
              "    height: 32px;\n",
              "    padding: 0;\n",
              "    width: 32px;\n",
              "  }\n",
              "\n",
              "  .colab-df-quickchart:hover {\n",
              "    background-color: var(--hover-bg-color);\n",
              "    box-shadow: 0 1px 2px rgba(60, 64, 67, 0.3), 0 1px 3px 1px rgba(60, 64, 67, 0.15);\n",
              "    fill: var(--button-hover-fill-color);\n",
              "  }\n",
              "\n",
              "  .colab-df-quickchart-complete:disabled,\n",
              "  .colab-df-quickchart-complete:disabled:hover {\n",
              "    background-color: var(--disabled-bg-color);\n",
              "    fill: var(--disabled-fill-color);\n",
              "    box-shadow: none;\n",
              "  }\n",
              "\n",
              "  .colab-df-spinner {\n",
              "    border: 2px solid var(--fill-color);\n",
              "    border-color: transparent;\n",
              "    border-bottom-color: var(--fill-color);\n",
              "    animation:\n",
              "      spin 1s steps(1) infinite;\n",
              "  }\n",
              "\n",
              "  @keyframes spin {\n",
              "    0% {\n",
              "      border-color: transparent;\n",
              "      border-bottom-color: var(--fill-color);\n",
              "      border-left-color: var(--fill-color);\n",
              "    }\n",
              "    20% {\n",
              "      border-color: transparent;\n",
              "      border-left-color: var(--fill-color);\n",
              "      border-top-color: var(--fill-color);\n",
              "    }\n",
              "    30% {\n",
              "      border-color: transparent;\n",
              "      border-left-color: var(--fill-color);\n",
              "      border-top-color: var(--fill-color);\n",
              "      border-right-color: var(--fill-color);\n",
              "    }\n",
              "    40% {\n",
              "      border-color: transparent;\n",
              "      border-right-color: var(--fill-color);\n",
              "      border-top-color: var(--fill-color);\n",
              "    }\n",
              "    60% {\n",
              "      border-color: transparent;\n",
              "      border-right-color: var(--fill-color);\n",
              "    }\n",
              "    80% {\n",
              "      border-color: transparent;\n",
              "      border-right-color: var(--fill-color);\n",
              "      border-bottom-color: var(--fill-color);\n",
              "    }\n",
              "    90% {\n",
              "      border-color: transparent;\n",
              "      border-bottom-color: var(--fill-color);\n",
              "    }\n",
              "  }\n",
              "</style>\n",
              "\n",
              "      <script>\n",
              "        async function quickchart(key) {\n",
              "          const quickchartButtonEl =\n",
              "            document.querySelector('#' + key + ' button');\n",
              "          quickchartButtonEl.disabled = true;  // To prevent multiple clicks.\n",
              "          quickchartButtonEl.classList.add('colab-df-spinner');\n",
              "          try {\n",
              "            const charts = await google.colab.kernel.invokeFunction(\n",
              "                'suggestCharts', [key], {});\n",
              "          } catch (error) {\n",
              "            console.error('Error during call to suggestCharts:', error);\n",
              "          }\n",
              "          quickchartButtonEl.classList.remove('colab-df-spinner');\n",
              "          quickchartButtonEl.classList.add('colab-df-quickchart-complete');\n",
              "        }\n",
              "        (() => {\n",
              "          let quickchartButtonEl =\n",
              "            document.querySelector('#df-064aa1f9-0298-470c-9d5a-063e1af8dfba button');\n",
              "          quickchartButtonEl.style.display =\n",
              "            google.colab.kernel.accessAllowed ? 'block' : 'none';\n",
              "        })();\n",
              "      </script>\n",
              "    </div>\n",
              "\n",
              "    </div>\n",
              "  </div>\n"
            ],
            "text/plain": [
              "                                               headline     category\n",
              "53    court hears nnamdi kanu’s motion seeking his t...     politics\n",
              "109   sgg strategizes in obosi as okoma vows 130-war...     politics\n",
              "110   sgg strategizes in obosi as okoma vows 130-war...     politics\n",
              "180   hon. francis barthlomew chima (omobarca) joins...     politics\n",
              "191   fresh legal firestorm over nnamdi kanu’s trial...     politics\n",
              "...                                                 ...          ...\n",
              "5405          best inspirational love songs of all time  music-radio\n",
              "5470    fedozky - godfather (prod. by kaladmagicfinger)  music-radio\n",
              "5485  how to grow from 0 to 34,000 monthly spotify l...  music-radio\n",
              "5497                                    tekno – gon gon  music-radio\n",
              "5662  dj gambit sensational exclusive party jamz mix...  music-radio\n",
              "\n",
              "[73 rows x 2 columns]"
            ]
          },
          "execution_count": 189,
          "metadata": {},
          "output_type": "execute_result"
        }
      ],
      "source": [
        "dataset[dataset.duplicated()]"
      ]
    },
    {
      "cell_type": "code",
      "execution_count": null,
      "metadata": {
        "id": "-7l7HGUkyFL9"
      },
      "outputs": [],
      "source": [
        "dataset = dataset.drop_duplicates()"
      ]
    },
    {
      "cell_type": "code",
      "execution_count": null,
      "metadata": {
        "id": "mYERUWCX9UHw"
      },
      "outputs": [],
      "source": [
        "def get_headline(headline):\n",
        "  # Check if any of the specified punctuation marks are in the headline\n",
        "  if any(char in headline for char in ['.', '?', ';', ':', ',']):\n",
        "    return headline\n",
        "  else:\n",
        "    return None"
      ]
    },
    {
      "cell_type": "code",
      "execution_count": null,
      "metadata": {
        "colab": {
          "base_uri": "https://localhost:8080/",
          "height": 35
        },
        "id": "y9FghadN9VsE",
        "outputId": "98efdf8a-e4a0-41d0-ca00-000be2381ec5"
      },
      "outputs": [
        {
          "data": {
            "application/vnd.google.colaboratory.intrinsic+json": {
              "type": "string"
            },
            "text/plain": [
              "'debt scandal: ukachukwu held hostage over ₦1billion (video)'"
            ]
          },
          "execution_count": 192,
          "metadata": {},
          "output_type": "execute_result"
        }
      ],
      "source": [
        "dataset[dataset['headline'].apply(get_headline).notna()]['headline'].loc[7]"
      ]
    },
    {
      "cell_type": "code",
      "execution_count": null,
      "metadata": {
        "colab": {
          "base_uri": "https://localhost:8080/",
          "height": 35
        },
        "id": "MBiFDRp79i0m",
        "outputId": "2eb6070d-63b0-4897-a5a6-80b91aaa1d4e"
      },
      "outputs": [
        {
          "data": {
            "application/vnd.google.colaboratory.intrinsic+json": {
              "type": "string"
            },
            "text/plain": [
              "'which party is giringori in?'"
            ]
          },
          "execution_count": 193,
          "metadata": {},
          "output_type": "execute_result"
        }
      ],
      "source": [
        "dataset[dataset['headline'].apply(get_headline).notna()]['headline'].loc[8]"
      ]
    },
    {
      "cell_type": "markdown",
      "metadata": {
        "id": "mBPFuRxy9rT3"
      },
      "source": [
        "From the headline above it is clear that \"?, :\" can be a signal in the headlines therefore i didn't strip it off headlines"
      ]
    },
    {
      "cell_type": "code",
      "execution_count": null,
      "metadata": {
        "id": "dfigF5Xy5SgU"
      },
      "outputs": [],
      "source": [
        "dataset['headline'] = dataset['headline'].str.strip(\".,;:\")"
      ]
    },
    {
      "cell_type": "markdown",
      "metadata": {
        "id": "Z5O2a_iwzED-"
      },
      "source": [
        "Handling empty strings as headlines"
      ]
    },
    {
      "cell_type": "code",
      "execution_count": null,
      "metadata": {
        "colab": {
          "base_uri": "https://localhost:8080/",
          "height": 53
        },
        "id": "SO_lxtemv34O",
        "outputId": "e5c1e6fd-d794-4396-f6e4-6ecb728ae234"
      },
      "outputs": [
        {
          "data": {
            "application/vnd.google.colaboratory.intrinsic+json": {
              "repr_error": "Out of range float values are not JSON compliant: nan",
              "type": "dataframe"
            },
            "text/html": [
              "\n",
              "  <div id=\"df-fcc12912-9220-4405-b5a4-c6f3646a4df3\" class=\"colab-df-container\">\n",
              "    <div>\n",
              "<style scoped>\n",
              "    .dataframe tbody tr th:only-of-type {\n",
              "        vertical-align: middle;\n",
              "    }\n",
              "\n",
              "    .dataframe tbody tr th {\n",
              "        vertical-align: top;\n",
              "    }\n",
              "\n",
              "    .dataframe thead th {\n",
              "        text-align: right;\n",
              "    }\n",
              "</style>\n",
              "<table border=\"1\" class=\"dataframe\">\n",
              "  <thead>\n",
              "    <tr style=\"text-align: right;\">\n",
              "      <th></th>\n",
              "      <th>headline</th>\n",
              "      <th>category</th>\n",
              "    </tr>\n",
              "  </thead>\n",
              "  <tbody>\n",
              "  </tbody>\n",
              "</table>\n",
              "</div>\n",
              "    <div class=\"colab-df-buttons\">\n",
              "\n",
              "  <div class=\"colab-df-container\">\n",
              "    <button class=\"colab-df-convert\" onclick=\"convertToInteractive('df-fcc12912-9220-4405-b5a4-c6f3646a4df3')\"\n",
              "            title=\"Convert this dataframe to an interactive table.\"\n",
              "            style=\"display:none;\">\n",
              "\n",
              "  <svg xmlns=\"http://www.w3.org/2000/svg\" height=\"24px\" viewBox=\"0 -960 960 960\">\n",
              "    <path d=\"M120-120v-720h720v720H120Zm60-500h600v-160H180v160Zm220 220h160v-160H400v160Zm0 220h160v-160H400v160ZM180-400h160v-160H180v160Zm440 0h160v-160H620v160ZM180-180h160v-160H180v160Zm440 0h160v-160H620v160Z\"/>\n",
              "  </svg>\n",
              "    </button>\n",
              "\n",
              "  <style>\n",
              "    .colab-df-container {\n",
              "      display:flex;\n",
              "      gap: 12px;\n",
              "    }\n",
              "\n",
              "    .colab-df-convert {\n",
              "      background-color: #E8F0FE;\n",
              "      border: none;\n",
              "      border-radius: 50%;\n",
              "      cursor: pointer;\n",
              "      display: none;\n",
              "      fill: #1967D2;\n",
              "      height: 32px;\n",
              "      padding: 0 0 0 0;\n",
              "      width: 32px;\n",
              "    }\n",
              "\n",
              "    .colab-df-convert:hover {\n",
              "      background-color: #E2EBFA;\n",
              "      box-shadow: 0px 1px 2px rgba(60, 64, 67, 0.3), 0px 1px 3px 1px rgba(60, 64, 67, 0.15);\n",
              "      fill: #174EA6;\n",
              "    }\n",
              "\n",
              "    .colab-df-buttons div {\n",
              "      margin-bottom: 4px;\n",
              "    }\n",
              "\n",
              "    [theme=dark] .colab-df-convert {\n",
              "      background-color: #3B4455;\n",
              "      fill: #D2E3FC;\n",
              "    }\n",
              "\n",
              "    [theme=dark] .colab-df-convert:hover {\n",
              "      background-color: #434B5C;\n",
              "      box-shadow: 0px 1px 3px 1px rgba(0, 0, 0, 0.15);\n",
              "      filter: drop-shadow(0px 1px 2px rgba(0, 0, 0, 0.3));\n",
              "      fill: #FFFFFF;\n",
              "    }\n",
              "  </style>\n",
              "\n",
              "    <script>\n",
              "      const buttonEl =\n",
              "        document.querySelector('#df-fcc12912-9220-4405-b5a4-c6f3646a4df3 button.colab-df-convert');\n",
              "      buttonEl.style.display =\n",
              "        google.colab.kernel.accessAllowed ? 'block' : 'none';\n",
              "\n",
              "      async function convertToInteractive(key) {\n",
              "        const element = document.querySelector('#df-fcc12912-9220-4405-b5a4-c6f3646a4df3');\n",
              "        const dataTable =\n",
              "          await google.colab.kernel.invokeFunction('convertToInteractive',\n",
              "                                                    [key], {});\n",
              "        if (!dataTable) return;\n",
              "\n",
              "        const docLinkHtml = 'Like what you see? Visit the ' +\n",
              "          '<a target=\"_blank\" href=https://colab.research.google.com/notebooks/data_table.ipynb>data table notebook</a>'\n",
              "          + ' to learn more about interactive tables.';\n",
              "        element.innerHTML = '';\n",
              "        dataTable['output_type'] = 'display_data';\n",
              "        await google.colab.output.renderOutput(dataTable, element);\n",
              "        const docLink = document.createElement('div');\n",
              "        docLink.innerHTML = docLinkHtml;\n",
              "        element.appendChild(docLink);\n",
              "      }\n",
              "    </script>\n",
              "  </div>\n",
              "\n",
              "\n",
              "    </div>\n",
              "  </div>\n"
            ],
            "text/plain": [
              "Empty DataFrame\n",
              "Columns: [headline, category]\n",
              "Index: []"
            ]
          },
          "execution_count": 195,
          "metadata": {},
          "output_type": "execute_result"
        }
      ],
      "source": [
        "dataset[dataset['headline'].str.isspace()]"
      ]
    },
    {
      "cell_type": "markdown",
      "metadata": {
        "id": "jIw7Z1nzweDg"
      },
      "source": [
        "Checking for headlines with length below a certain value\n",
        "- the exploration below showed that some headlines like \"audiomark\", \"hip hop\" can be real signals and those with the length below 7 are noise"
      ]
    },
    {
      "cell_type": "code",
      "execution_count": null,
      "metadata": {
        "id": "JUDjB92NwLCD"
      },
      "outputs": [],
      "source": [
        "dataset['headline_length'] = dataset['headline'].apply(lambda x: len(x))"
      ]
    },
    {
      "cell_type": "code",
      "execution_count": null,
      "metadata": {
        "colab": {
          "base_uri": "https://localhost:8080/",
          "height": 1000
        },
        "id": "zR5-1hKGwxIS",
        "outputId": "66c5ff25-0367-4aac-f2ff-acdd71802f0e"
      },
      "outputs": [
        {
          "data": {
            "application/vnd.google.colaboratory.intrinsic+json": {
              "summary": "{\n  \"name\": \"dataset[dataset['headline_length'] < 10]\",\n  \"rows\": 37,\n  \"fields\": [\n    {\n      \"column\": \"headline\",\n      \"properties\": {\n        \"dtype\": \"string\",\n        \"num_unique_values\": 34,\n        \"samples\": [\n          \"champion\",\n          \"countdown\",\n          \"help\"\n        ],\n        \"semantic_type\": \"\",\n        \"description\": \"\"\n      }\n    },\n    {\n      \"column\": \"category\",\n      \"properties\": {\n        \"dtype\": \"category\",\n        \"num_unique_values\": 6,\n        \"samples\": [\n          \"politics\",\n          \"business\",\n          \"music-radio\"\n        ],\n        \"semantic_type\": \"\",\n        \"description\": \"\"\n      }\n    },\n    {\n      \"column\": \"headline_length\",\n      \"properties\": {\n        \"dtype\": \"number\",\n        \"std\": 2,\n        \"min\": 0,\n        \"max\": 9,\n        \"num_unique_values\": 9,\n        \"samples\": [\n          5,\n          9,\n          7\n        ],\n        \"semantic_type\": \"\",\n        \"description\": \"\"\n      }\n    }\n  ]\n}",
              "type": "dataframe"
            },
            "text/html": [
              "\n",
              "  <div id=\"df-be824c46-dc2f-40e8-97a6-b3a9b5812131\" class=\"colab-df-container\">\n",
              "    <div>\n",
              "<style scoped>\n",
              "    .dataframe tbody tr th:only-of-type {\n",
              "        vertical-align: middle;\n",
              "    }\n",
              "\n",
              "    .dataframe tbody tr th {\n",
              "        vertical-align: top;\n",
              "    }\n",
              "\n",
              "    .dataframe thead th {\n",
              "        text-align: right;\n",
              "    }\n",
              "</style>\n",
              "<table border=\"1\" class=\"dataframe\">\n",
              "  <thead>\n",
              "    <tr style=\"text-align: right;\">\n",
              "      <th></th>\n",
              "      <th>headline</th>\n",
              "      <th>category</th>\n",
              "      <th>headline_length</th>\n",
              "    </tr>\n",
              "  </thead>\n",
              "  <tbody>\n",
              "    <tr>\n",
              "      <th>849</th>\n",
              "      <td>@</td>\n",
              "      <td>politics</td>\n",
              "      <td>1</td>\n",
              "    </tr>\n",
              "    <tr>\n",
              "      <th>1371</th>\n",
              "      <td>deriv bot</td>\n",
              "      <td>business</td>\n",
              "      <td>9</td>\n",
              "    </tr>\n",
              "    <tr>\n",
              "      <th>1444</th>\n",
              "      <td>my story</td>\n",
              "      <td>business</td>\n",
              "      <td>8</td>\n",
              "    </tr>\n",
              "    <tr>\n",
              "      <th>1720</th>\n",
              "      <td></td>\n",
              "      <td>business</td>\n",
              "      <td>0</td>\n",
              "    </tr>\n",
              "    <tr>\n",
              "      <th>1740</th>\n",
              "      <td>cbn  push</td>\n",
              "      <td>business</td>\n",
              "      <td>9</td>\n",
              "    </tr>\n",
              "    <tr>\n",
              "      <th>1819</th>\n",
              "      <td>closed</td>\n",
              "      <td>business</td>\n",
              "      <td>6</td>\n",
              "    </tr>\n",
              "    <tr>\n",
              "      <th>1833</th>\n",
              "      <td>business</td>\n",
              "      <td>business</td>\n",
              "      <td>8</td>\n",
              "    </tr>\n",
              "    <tr>\n",
              "      <th>2419</th>\n",
              "      <td>it issues</td>\n",
              "      <td>education</td>\n",
              "      <td>9</td>\n",
              "    </tr>\n",
              "    <tr>\n",
              "      <th>2469</th>\n",
              "      <td>education</td>\n",
              "      <td>education</td>\n",
              "      <td>9</td>\n",
              "    </tr>\n",
              "    <tr>\n",
              "      <th>2849</th>\n",
              "      <td>nursing</td>\n",
              "      <td>education</td>\n",
              "      <td>7</td>\n",
              "    </tr>\n",
              "    <tr>\n",
              "      <th>3003</th>\n",
              "      <td>my story</td>\n",
              "      <td>sports</td>\n",
              "      <td>8</td>\n",
              "    </tr>\n",
              "    <tr>\n",
              "      <th>3018</th>\n",
              "      <td>mostbet</td>\n",
              "      <td>sports</td>\n",
              "      <td>7</td>\n",
              "    </tr>\n",
              "    <tr>\n",
              "      <th>3158</th>\n",
              "      <td>grownow</td>\n",
              "      <td>sports</td>\n",
              "      <td>7</td>\n",
              "    </tr>\n",
              "    <tr>\n",
              "      <th>3454</th>\n",
              "      <td>sure tips</td>\n",
              "      <td>sports</td>\n",
              "      <td>9</td>\n",
              "    </tr>\n",
              "    <tr>\n",
              "      <th>3502</th>\n",
              "      <td>hi</td>\n",
              "      <td>sports</td>\n",
              "      <td>2</td>\n",
              "    </tr>\n",
              "    <tr>\n",
              "      <th>3552</th>\n",
              "      <td>fc news</td>\n",
              "      <td>sports</td>\n",
              "      <td>7</td>\n",
              "    </tr>\n",
              "    <tr>\n",
              "      <th>3713</th>\n",
              "      <td>champion</td>\n",
              "      <td>sports</td>\n",
              "      <td>8</td>\n",
              "    </tr>\n",
              "    <tr>\n",
              "      <th>4040</th>\n",
              "      <td></td>\n",
              "      <td>tv-movies</td>\n",
              "      <td>0</td>\n",
              "    </tr>\n",
              "    <tr>\n",
              "      <th>4348</th>\n",
              "      <td>mankind</td>\n",
              "      <td>tv-movies</td>\n",
              "      <td>7</td>\n",
              "    </tr>\n",
              "    <tr>\n",
              "      <th>4395</th>\n",
              "      <td>aliens</td>\n",
              "      <td>tv-movies</td>\n",
              "      <td>6</td>\n",
              "    </tr>\n",
              "    <tr>\n",
              "      <th>4416</th>\n",
              "      <td>power</td>\n",
              "      <td>tv-movies</td>\n",
              "      <td>5</td>\n",
              "    </tr>\n",
              "    <tr>\n",
              "      <th>4474</th>\n",
              "      <td>countdown</td>\n",
              "      <td>tv-movies</td>\n",
              "      <td>9</td>\n",
              "    </tr>\n",
              "    <tr>\n",
              "      <th>4484</th>\n",
              "      <td>locked</td>\n",
              "      <td>tv-movies</td>\n",
              "      <td>6</td>\n",
              "    </tr>\n",
              "    <tr>\n",
              "      <th>4504</th>\n",
              "      <td>hello</td>\n",
              "      <td>tv-movies</td>\n",
              "      <td>5</td>\n",
              "    </tr>\n",
              "    <tr>\n",
              "      <th>4507</th>\n",
              "      <td>nollywood</td>\n",
              "      <td>tv-movies</td>\n",
              "      <td>9</td>\n",
              "    </tr>\n",
              "    <tr>\n",
              "      <th>4530</th>\n",
              "      <td>\"lazy uth</td>\n",
              "      <td>tv-movies</td>\n",
              "      <td>9</td>\n",
              "    </tr>\n",
              "    <tr>\n",
              "      <th>4603</th>\n",
              "      <td>reacher</td>\n",
              "      <td>tv-movies</td>\n",
              "      <td>7</td>\n",
              "    </tr>\n",
              "    <tr>\n",
              "      <th>4736</th>\n",
              "      <td>plasma tv</td>\n",
              "      <td>tv-movies</td>\n",
              "      <td>9</td>\n",
              "    </tr>\n",
              "    <tr>\n",
              "      <th>4862</th>\n",
              "      <td>youtube</td>\n",
              "      <td>tv-movies</td>\n",
              "      <td>7</td>\n",
              "    </tr>\n",
              "    <tr>\n",
              "      <th>5012</th>\n",
              "      <td>help</td>\n",
              "      <td>music-radio</td>\n",
              "      <td>4</td>\n",
              "    </tr>\n",
              "    <tr>\n",
              "      <th>5053</th>\n",
              "      <td>hip hop</td>\n",
              "      <td>music-radio</td>\n",
              "      <td>7</td>\n",
              "    </tr>\n",
              "    <tr>\n",
              "      <th>5062</th>\n",
              "      <td>orchestra</td>\n",
              "      <td>music-radio</td>\n",
              "      <td>9</td>\n",
              "    </tr>\n",
              "    <tr>\n",
              "      <th>5109</th>\n",
              "      <td>esse</td>\n",
              "      <td>music-radio</td>\n",
              "      <td>4</td>\n",
              "    </tr>\n",
              "    <tr>\n",
              "      <th>5181</th>\n",
              "      <td>in need</td>\n",
              "      <td>music-radio</td>\n",
              "      <td>7</td>\n",
              "    </tr>\n",
              "    <tr>\n",
              "      <th>5324</th>\n",
              "      <td></td>\n",
              "      <td>music-radio</td>\n",
              "      <td>0</td>\n",
              "    </tr>\n",
              "    <tr>\n",
              "      <th>5581</th>\n",
              "      <td>love</td>\n",
              "      <td>music-radio</td>\n",
              "      <td>4</td>\n",
              "    </tr>\n",
              "    <tr>\n",
              "      <th>5735</th>\n",
              "      <td>audiomack</td>\n",
              "      <td>music-radio</td>\n",
              "      <td>9</td>\n",
              "    </tr>\n",
              "  </tbody>\n",
              "</table>\n",
              "</div>\n",
              "    <div class=\"colab-df-buttons\">\n",
              "\n",
              "  <div class=\"colab-df-container\">\n",
              "    <button class=\"colab-df-convert\" onclick=\"convertToInteractive('df-be824c46-dc2f-40e8-97a6-b3a9b5812131')\"\n",
              "            title=\"Convert this dataframe to an interactive table.\"\n",
              "            style=\"display:none;\">\n",
              "\n",
              "  <svg xmlns=\"http://www.w3.org/2000/svg\" height=\"24px\" viewBox=\"0 -960 960 960\">\n",
              "    <path d=\"M120-120v-720h720v720H120Zm60-500h600v-160H180v160Zm220 220h160v-160H400v160Zm0 220h160v-160H400v160ZM180-400h160v-160H180v160Zm440 0h160v-160H620v160ZM180-180h160v-160H180v160Zm440 0h160v-160H620v160Z\"/>\n",
              "  </svg>\n",
              "    </button>\n",
              "\n",
              "  <style>\n",
              "    .colab-df-container {\n",
              "      display:flex;\n",
              "      gap: 12px;\n",
              "    }\n",
              "\n",
              "    .colab-df-convert {\n",
              "      background-color: #E8F0FE;\n",
              "      border: none;\n",
              "      border-radius: 50%;\n",
              "      cursor: pointer;\n",
              "      display: none;\n",
              "      fill: #1967D2;\n",
              "      height: 32px;\n",
              "      padding: 0 0 0 0;\n",
              "      width: 32px;\n",
              "    }\n",
              "\n",
              "    .colab-df-convert:hover {\n",
              "      background-color: #E2EBFA;\n",
              "      box-shadow: 0px 1px 2px rgba(60, 64, 67, 0.3), 0px 1px 3px 1px rgba(60, 64, 67, 0.15);\n",
              "      fill: #174EA6;\n",
              "    }\n",
              "\n",
              "    .colab-df-buttons div {\n",
              "      margin-bottom: 4px;\n",
              "    }\n",
              "\n",
              "    [theme=dark] .colab-df-convert {\n",
              "      background-color: #3B4455;\n",
              "      fill: #D2E3FC;\n",
              "    }\n",
              "\n",
              "    [theme=dark] .colab-df-convert:hover {\n",
              "      background-color: #434B5C;\n",
              "      box-shadow: 0px 1px 3px 1px rgba(0, 0, 0, 0.15);\n",
              "      filter: drop-shadow(0px 1px 2px rgba(0, 0, 0, 0.3));\n",
              "      fill: #FFFFFF;\n",
              "    }\n",
              "  </style>\n",
              "\n",
              "    <script>\n",
              "      const buttonEl =\n",
              "        document.querySelector('#df-be824c46-dc2f-40e8-97a6-b3a9b5812131 button.colab-df-convert');\n",
              "      buttonEl.style.display =\n",
              "        google.colab.kernel.accessAllowed ? 'block' : 'none';\n",
              "\n",
              "      async function convertToInteractive(key) {\n",
              "        const element = document.querySelector('#df-be824c46-dc2f-40e8-97a6-b3a9b5812131');\n",
              "        const dataTable =\n",
              "          await google.colab.kernel.invokeFunction('convertToInteractive',\n",
              "                                                    [key], {});\n",
              "        if (!dataTable) return;\n",
              "\n",
              "        const docLinkHtml = 'Like what you see? Visit the ' +\n",
              "          '<a target=\"_blank\" href=https://colab.research.google.com/notebooks/data_table.ipynb>data table notebook</a>'\n",
              "          + ' to learn more about interactive tables.';\n",
              "        element.innerHTML = '';\n",
              "        dataTable['output_type'] = 'display_data';\n",
              "        await google.colab.output.renderOutput(dataTable, element);\n",
              "        const docLink = document.createElement('div');\n",
              "        docLink.innerHTML = docLinkHtml;\n",
              "        element.appendChild(docLink);\n",
              "      }\n",
              "    </script>\n",
              "  </div>\n",
              "\n",
              "\n",
              "    <div id=\"df-a9147ad1-a253-4583-8db3-dee22b0b510b\">\n",
              "      <button class=\"colab-df-quickchart\" onclick=\"quickchart('df-a9147ad1-a253-4583-8db3-dee22b0b510b')\"\n",
              "                title=\"Suggest charts\"\n",
              "                style=\"display:none;\">\n",
              "\n",
              "<svg xmlns=\"http://www.w3.org/2000/svg\" height=\"24px\"viewBox=\"0 0 24 24\"\n",
              "     width=\"24px\">\n",
              "    <g>\n",
              "        <path d=\"M19 3H5c-1.1 0-2 .9-2 2v14c0 1.1.9 2 2 2h14c1.1 0 2-.9 2-2V5c0-1.1-.9-2-2-2zM9 17H7v-7h2v7zm4 0h-2V7h2v10zm4 0h-2v-4h2v4z\"/>\n",
              "    </g>\n",
              "</svg>\n",
              "      </button>\n",
              "\n",
              "<style>\n",
              "  .colab-df-quickchart {\n",
              "      --bg-color: #E8F0FE;\n",
              "      --fill-color: #1967D2;\n",
              "      --hover-bg-color: #E2EBFA;\n",
              "      --hover-fill-color: #174EA6;\n",
              "      --disabled-fill-color: #AAA;\n",
              "      --disabled-bg-color: #DDD;\n",
              "  }\n",
              "\n",
              "  [theme=dark] .colab-df-quickchart {\n",
              "      --bg-color: #3B4455;\n",
              "      --fill-color: #D2E3FC;\n",
              "      --hover-bg-color: #434B5C;\n",
              "      --hover-fill-color: #FFFFFF;\n",
              "      --disabled-bg-color: #3B4455;\n",
              "      --disabled-fill-color: #666;\n",
              "  }\n",
              "\n",
              "  .colab-df-quickchart {\n",
              "    background-color: var(--bg-color);\n",
              "    border: none;\n",
              "    border-radius: 50%;\n",
              "    cursor: pointer;\n",
              "    display: none;\n",
              "    fill: var(--fill-color);\n",
              "    height: 32px;\n",
              "    padding: 0;\n",
              "    width: 32px;\n",
              "  }\n",
              "\n",
              "  .colab-df-quickchart:hover {\n",
              "    background-color: var(--hover-bg-color);\n",
              "    box-shadow: 0 1px 2px rgba(60, 64, 67, 0.3), 0 1px 3px 1px rgba(60, 64, 67, 0.15);\n",
              "    fill: var(--button-hover-fill-color);\n",
              "  }\n",
              "\n",
              "  .colab-df-quickchart-complete:disabled,\n",
              "  .colab-df-quickchart-complete:disabled:hover {\n",
              "    background-color: var(--disabled-bg-color);\n",
              "    fill: var(--disabled-fill-color);\n",
              "    box-shadow: none;\n",
              "  }\n",
              "\n",
              "  .colab-df-spinner {\n",
              "    border: 2px solid var(--fill-color);\n",
              "    border-color: transparent;\n",
              "    border-bottom-color: var(--fill-color);\n",
              "    animation:\n",
              "      spin 1s steps(1) infinite;\n",
              "  }\n",
              "\n",
              "  @keyframes spin {\n",
              "    0% {\n",
              "      border-color: transparent;\n",
              "      border-bottom-color: var(--fill-color);\n",
              "      border-left-color: var(--fill-color);\n",
              "    }\n",
              "    20% {\n",
              "      border-color: transparent;\n",
              "      border-left-color: var(--fill-color);\n",
              "      border-top-color: var(--fill-color);\n",
              "    }\n",
              "    30% {\n",
              "      border-color: transparent;\n",
              "      border-left-color: var(--fill-color);\n",
              "      border-top-color: var(--fill-color);\n",
              "      border-right-color: var(--fill-color);\n",
              "    }\n",
              "    40% {\n",
              "      border-color: transparent;\n",
              "      border-right-color: var(--fill-color);\n",
              "      border-top-color: var(--fill-color);\n",
              "    }\n",
              "    60% {\n",
              "      border-color: transparent;\n",
              "      border-right-color: var(--fill-color);\n",
              "    }\n",
              "    80% {\n",
              "      border-color: transparent;\n",
              "      border-right-color: var(--fill-color);\n",
              "      border-bottom-color: var(--fill-color);\n",
              "    }\n",
              "    90% {\n",
              "      border-color: transparent;\n",
              "      border-bottom-color: var(--fill-color);\n",
              "    }\n",
              "  }\n",
              "</style>\n",
              "\n",
              "      <script>\n",
              "        async function quickchart(key) {\n",
              "          const quickchartButtonEl =\n",
              "            document.querySelector('#' + key + ' button');\n",
              "          quickchartButtonEl.disabled = true;  // To prevent multiple clicks.\n",
              "          quickchartButtonEl.classList.add('colab-df-spinner');\n",
              "          try {\n",
              "            const charts = await google.colab.kernel.invokeFunction(\n",
              "                'suggestCharts', [key], {});\n",
              "          } catch (error) {\n",
              "            console.error('Error during call to suggestCharts:', error);\n",
              "          }\n",
              "          quickchartButtonEl.classList.remove('colab-df-spinner');\n",
              "          quickchartButtonEl.classList.add('colab-df-quickchart-complete');\n",
              "        }\n",
              "        (() => {\n",
              "          let quickchartButtonEl =\n",
              "            document.querySelector('#df-a9147ad1-a253-4583-8db3-dee22b0b510b button');\n",
              "          quickchartButtonEl.style.display =\n",
              "            google.colab.kernel.accessAllowed ? 'block' : 'none';\n",
              "        })();\n",
              "      </script>\n",
              "    </div>\n",
              "\n",
              "    </div>\n",
              "  </div>\n"
            ],
            "text/plain": [
              "       headline     category  headline_length\n",
              "849           @     politics                1\n",
              "1371  deriv bot     business                9\n",
              "1444   my story     business                8\n",
              "1720                business                0\n",
              "1740  cbn  push     business                9\n",
              "1819     closed     business                6\n",
              "1833   business     business                8\n",
              "2419  it issues    education                9\n",
              "2469  education    education                9\n",
              "2849    nursing    education                7\n",
              "3003   my story       sports                8\n",
              "3018    mostbet       sports                7\n",
              "3158    grownow       sports                7\n",
              "3454  sure tips       sports                9\n",
              "3502         hi       sports                2\n",
              "3552    fc news       sports                7\n",
              "3713   champion       sports                8\n",
              "4040               tv-movies                0\n",
              "4348    mankind    tv-movies                7\n",
              "4395     aliens    tv-movies                6\n",
              "4416      power    tv-movies                5\n",
              "4474  countdown    tv-movies                9\n",
              "4484     locked    tv-movies                6\n",
              "4504      hello    tv-movies                5\n",
              "4507  nollywood    tv-movies                9\n",
              "4530  \"lazy uth    tv-movies                9\n",
              "4603    reacher    tv-movies                7\n",
              "4736  plasma tv    tv-movies                9\n",
              "4862    youtube    tv-movies                7\n",
              "5012       help  music-radio                4\n",
              "5053    hip hop  music-radio                7\n",
              "5062  orchestra  music-radio                9\n",
              "5109       esse  music-radio                4\n",
              "5181    in need  music-radio                7\n",
              "5324             music-radio                0\n",
              "5581       love  music-radio                4\n",
              "5735  audiomack  music-radio                9"
            ]
          },
          "execution_count": 197,
          "metadata": {},
          "output_type": "execute_result"
        }
      ],
      "source": [
        "dataset[dataset['headline_length'] < 10]"
      ]
    },
    {
      "cell_type": "code",
      "execution_count": null,
      "metadata": {
        "colab": {
          "base_uri": "https://localhost:8080/",
          "height": 739
        },
        "id": "Q2v7Yc002QVK",
        "outputId": "8bc3b4f3-8407-4808-cae6-f0ec2e80e723"
      },
      "outputs": [
        {
          "data": {
            "application/vnd.google.colaboratory.intrinsic+json": {
              "summary": "{\n  \"name\": \"dataset[dataset['headline_length'] <= 7]\",\n  \"rows\": 22,\n  \"fields\": [\n    {\n      \"column\": \"headline\",\n      \"properties\": {\n        \"dtype\": \"string\",\n        \"num_unique_values\": 20,\n        \"samples\": [\n          \"@\",\n          \"esse\",\n          \"help\"\n        ],\n        \"semantic_type\": \"\",\n        \"description\": \"\"\n      }\n    },\n    {\n      \"column\": \"category\",\n      \"properties\": {\n        \"dtype\": \"category\",\n        \"num_unique_values\": 6,\n        \"samples\": [\n          \"politics\",\n          \"business\",\n          \"music-radio\"\n        ],\n        \"semantic_type\": \"\",\n        \"description\": \"\"\n      }\n    },\n    {\n      \"column\": \"headline_length\",\n      \"properties\": {\n        \"dtype\": \"number\",\n        \"std\": 2,\n        \"min\": 0,\n        \"max\": 7,\n        \"num_unique_values\": 7,\n        \"samples\": [\n          1,\n          0,\n          5\n        ],\n        \"semantic_type\": \"\",\n        \"description\": \"\"\n      }\n    }\n  ]\n}",
              "type": "dataframe"
            },
            "text/html": [
              "\n",
              "  <div id=\"df-ce3d2f11-d728-40db-991a-f3d68e172c8f\" class=\"colab-df-container\">\n",
              "    <div>\n",
              "<style scoped>\n",
              "    .dataframe tbody tr th:only-of-type {\n",
              "        vertical-align: middle;\n",
              "    }\n",
              "\n",
              "    .dataframe tbody tr th {\n",
              "        vertical-align: top;\n",
              "    }\n",
              "\n",
              "    .dataframe thead th {\n",
              "        text-align: right;\n",
              "    }\n",
              "</style>\n",
              "<table border=\"1\" class=\"dataframe\">\n",
              "  <thead>\n",
              "    <tr style=\"text-align: right;\">\n",
              "      <th></th>\n",
              "      <th>headline</th>\n",
              "      <th>category</th>\n",
              "      <th>headline_length</th>\n",
              "    </tr>\n",
              "  </thead>\n",
              "  <tbody>\n",
              "    <tr>\n",
              "      <th>849</th>\n",
              "      <td>@</td>\n",
              "      <td>politics</td>\n",
              "      <td>1</td>\n",
              "    </tr>\n",
              "    <tr>\n",
              "      <th>1720</th>\n",
              "      <td></td>\n",
              "      <td>business</td>\n",
              "      <td>0</td>\n",
              "    </tr>\n",
              "    <tr>\n",
              "      <th>1819</th>\n",
              "      <td>closed</td>\n",
              "      <td>business</td>\n",
              "      <td>6</td>\n",
              "    </tr>\n",
              "    <tr>\n",
              "      <th>2849</th>\n",
              "      <td>nursing</td>\n",
              "      <td>education</td>\n",
              "      <td>7</td>\n",
              "    </tr>\n",
              "    <tr>\n",
              "      <th>3018</th>\n",
              "      <td>mostbet</td>\n",
              "      <td>sports</td>\n",
              "      <td>7</td>\n",
              "    </tr>\n",
              "    <tr>\n",
              "      <th>3158</th>\n",
              "      <td>grownow</td>\n",
              "      <td>sports</td>\n",
              "      <td>7</td>\n",
              "    </tr>\n",
              "    <tr>\n",
              "      <th>3502</th>\n",
              "      <td>hi</td>\n",
              "      <td>sports</td>\n",
              "      <td>2</td>\n",
              "    </tr>\n",
              "    <tr>\n",
              "      <th>3552</th>\n",
              "      <td>fc news</td>\n",
              "      <td>sports</td>\n",
              "      <td>7</td>\n",
              "    </tr>\n",
              "    <tr>\n",
              "      <th>4040</th>\n",
              "      <td></td>\n",
              "      <td>tv-movies</td>\n",
              "      <td>0</td>\n",
              "    </tr>\n",
              "    <tr>\n",
              "      <th>4348</th>\n",
              "      <td>mankind</td>\n",
              "      <td>tv-movies</td>\n",
              "      <td>7</td>\n",
              "    </tr>\n",
              "    <tr>\n",
              "      <th>4395</th>\n",
              "      <td>aliens</td>\n",
              "      <td>tv-movies</td>\n",
              "      <td>6</td>\n",
              "    </tr>\n",
              "    <tr>\n",
              "      <th>4416</th>\n",
              "      <td>power</td>\n",
              "      <td>tv-movies</td>\n",
              "      <td>5</td>\n",
              "    </tr>\n",
              "    <tr>\n",
              "      <th>4484</th>\n",
              "      <td>locked</td>\n",
              "      <td>tv-movies</td>\n",
              "      <td>6</td>\n",
              "    </tr>\n",
              "    <tr>\n",
              "      <th>4504</th>\n",
              "      <td>hello</td>\n",
              "      <td>tv-movies</td>\n",
              "      <td>5</td>\n",
              "    </tr>\n",
              "    <tr>\n",
              "      <th>4603</th>\n",
              "      <td>reacher</td>\n",
              "      <td>tv-movies</td>\n",
              "      <td>7</td>\n",
              "    </tr>\n",
              "    <tr>\n",
              "      <th>4862</th>\n",
              "      <td>youtube</td>\n",
              "      <td>tv-movies</td>\n",
              "      <td>7</td>\n",
              "    </tr>\n",
              "    <tr>\n",
              "      <th>5012</th>\n",
              "      <td>help</td>\n",
              "      <td>music-radio</td>\n",
              "      <td>4</td>\n",
              "    </tr>\n",
              "    <tr>\n",
              "      <th>5053</th>\n",
              "      <td>hip hop</td>\n",
              "      <td>music-radio</td>\n",
              "      <td>7</td>\n",
              "    </tr>\n",
              "    <tr>\n",
              "      <th>5109</th>\n",
              "      <td>esse</td>\n",
              "      <td>music-radio</td>\n",
              "      <td>4</td>\n",
              "    </tr>\n",
              "    <tr>\n",
              "      <th>5181</th>\n",
              "      <td>in need</td>\n",
              "      <td>music-radio</td>\n",
              "      <td>7</td>\n",
              "    </tr>\n",
              "    <tr>\n",
              "      <th>5324</th>\n",
              "      <td></td>\n",
              "      <td>music-radio</td>\n",
              "      <td>0</td>\n",
              "    </tr>\n",
              "    <tr>\n",
              "      <th>5581</th>\n",
              "      <td>love</td>\n",
              "      <td>music-radio</td>\n",
              "      <td>4</td>\n",
              "    </tr>\n",
              "  </tbody>\n",
              "</table>\n",
              "</div>\n",
              "    <div class=\"colab-df-buttons\">\n",
              "\n",
              "  <div class=\"colab-df-container\">\n",
              "    <button class=\"colab-df-convert\" onclick=\"convertToInteractive('df-ce3d2f11-d728-40db-991a-f3d68e172c8f')\"\n",
              "            title=\"Convert this dataframe to an interactive table.\"\n",
              "            style=\"display:none;\">\n",
              "\n",
              "  <svg xmlns=\"http://www.w3.org/2000/svg\" height=\"24px\" viewBox=\"0 -960 960 960\">\n",
              "    <path d=\"M120-120v-720h720v720H120Zm60-500h600v-160H180v160Zm220 220h160v-160H400v160Zm0 220h160v-160H400v160ZM180-400h160v-160H180v160Zm440 0h160v-160H620v160ZM180-180h160v-160H180v160Zm440 0h160v-160H620v160Z\"/>\n",
              "  </svg>\n",
              "    </button>\n",
              "\n",
              "  <style>\n",
              "    .colab-df-container {\n",
              "      display:flex;\n",
              "      gap: 12px;\n",
              "    }\n",
              "\n",
              "    .colab-df-convert {\n",
              "      background-color: #E8F0FE;\n",
              "      border: none;\n",
              "      border-radius: 50%;\n",
              "      cursor: pointer;\n",
              "      display: none;\n",
              "      fill: #1967D2;\n",
              "      height: 32px;\n",
              "      padding: 0 0 0 0;\n",
              "      width: 32px;\n",
              "    }\n",
              "\n",
              "    .colab-df-convert:hover {\n",
              "      background-color: #E2EBFA;\n",
              "      box-shadow: 0px 1px 2px rgba(60, 64, 67, 0.3), 0px 1px 3px 1px rgba(60, 64, 67, 0.15);\n",
              "      fill: #174EA6;\n",
              "    }\n",
              "\n",
              "    .colab-df-buttons div {\n",
              "      margin-bottom: 4px;\n",
              "    }\n",
              "\n",
              "    [theme=dark] .colab-df-convert {\n",
              "      background-color: #3B4455;\n",
              "      fill: #D2E3FC;\n",
              "    }\n",
              "\n",
              "    [theme=dark] .colab-df-convert:hover {\n",
              "      background-color: #434B5C;\n",
              "      box-shadow: 0px 1px 3px 1px rgba(0, 0, 0, 0.15);\n",
              "      filter: drop-shadow(0px 1px 2px rgba(0, 0, 0, 0.3));\n",
              "      fill: #FFFFFF;\n",
              "    }\n",
              "  </style>\n",
              "\n",
              "    <script>\n",
              "      const buttonEl =\n",
              "        document.querySelector('#df-ce3d2f11-d728-40db-991a-f3d68e172c8f button.colab-df-convert');\n",
              "      buttonEl.style.display =\n",
              "        google.colab.kernel.accessAllowed ? 'block' : 'none';\n",
              "\n",
              "      async function convertToInteractive(key) {\n",
              "        const element = document.querySelector('#df-ce3d2f11-d728-40db-991a-f3d68e172c8f');\n",
              "        const dataTable =\n",
              "          await google.colab.kernel.invokeFunction('convertToInteractive',\n",
              "                                                    [key], {});\n",
              "        if (!dataTable) return;\n",
              "\n",
              "        const docLinkHtml = 'Like what you see? Visit the ' +\n",
              "          '<a target=\"_blank\" href=https://colab.research.google.com/notebooks/data_table.ipynb>data table notebook</a>'\n",
              "          + ' to learn more about interactive tables.';\n",
              "        element.innerHTML = '';\n",
              "        dataTable['output_type'] = 'display_data';\n",
              "        await google.colab.output.renderOutput(dataTable, element);\n",
              "        const docLink = document.createElement('div');\n",
              "        docLink.innerHTML = docLinkHtml;\n",
              "        element.appendChild(docLink);\n",
              "      }\n",
              "    </script>\n",
              "  </div>\n",
              "\n",
              "\n",
              "    <div id=\"df-6a4b8f07-9060-414a-bcf7-856f8814bf74\">\n",
              "      <button class=\"colab-df-quickchart\" onclick=\"quickchart('df-6a4b8f07-9060-414a-bcf7-856f8814bf74')\"\n",
              "                title=\"Suggest charts\"\n",
              "                style=\"display:none;\">\n",
              "\n",
              "<svg xmlns=\"http://www.w3.org/2000/svg\" height=\"24px\"viewBox=\"0 0 24 24\"\n",
              "     width=\"24px\">\n",
              "    <g>\n",
              "        <path d=\"M19 3H5c-1.1 0-2 .9-2 2v14c0 1.1.9 2 2 2h14c1.1 0 2-.9 2-2V5c0-1.1-.9-2-2-2zM9 17H7v-7h2v7zm4 0h-2V7h2v10zm4 0h-2v-4h2v4z\"/>\n",
              "    </g>\n",
              "</svg>\n",
              "      </button>\n",
              "\n",
              "<style>\n",
              "  .colab-df-quickchart {\n",
              "      --bg-color: #E8F0FE;\n",
              "      --fill-color: #1967D2;\n",
              "      --hover-bg-color: #E2EBFA;\n",
              "      --hover-fill-color: #174EA6;\n",
              "      --disabled-fill-color: #AAA;\n",
              "      --disabled-bg-color: #DDD;\n",
              "  }\n",
              "\n",
              "  [theme=dark] .colab-df-quickchart {\n",
              "      --bg-color: #3B4455;\n",
              "      --fill-color: #D2E3FC;\n",
              "      --hover-bg-color: #434B5C;\n",
              "      --hover-fill-color: #FFFFFF;\n",
              "      --disabled-bg-color: #3B4455;\n",
              "      --disabled-fill-color: #666;\n",
              "  }\n",
              "\n",
              "  .colab-df-quickchart {\n",
              "    background-color: var(--bg-color);\n",
              "    border: none;\n",
              "    border-radius: 50%;\n",
              "    cursor: pointer;\n",
              "    display: none;\n",
              "    fill: var(--fill-color);\n",
              "    height: 32px;\n",
              "    padding: 0;\n",
              "    width: 32px;\n",
              "  }\n",
              "\n",
              "  .colab-df-quickchart:hover {\n",
              "    background-color: var(--hover-bg-color);\n",
              "    box-shadow: 0 1px 2px rgba(60, 64, 67, 0.3), 0 1px 3px 1px rgba(60, 64, 67, 0.15);\n",
              "    fill: var(--button-hover-fill-color);\n",
              "  }\n",
              "\n",
              "  .colab-df-quickchart-complete:disabled,\n",
              "  .colab-df-quickchart-complete:disabled:hover {\n",
              "    background-color: var(--disabled-bg-color);\n",
              "    fill: var(--disabled-fill-color);\n",
              "    box-shadow: none;\n",
              "  }\n",
              "\n",
              "  .colab-df-spinner {\n",
              "    border: 2px solid var(--fill-color);\n",
              "    border-color: transparent;\n",
              "    border-bottom-color: var(--fill-color);\n",
              "    animation:\n",
              "      spin 1s steps(1) infinite;\n",
              "  }\n",
              "\n",
              "  @keyframes spin {\n",
              "    0% {\n",
              "      border-color: transparent;\n",
              "      border-bottom-color: var(--fill-color);\n",
              "      border-left-color: var(--fill-color);\n",
              "    }\n",
              "    20% {\n",
              "      border-color: transparent;\n",
              "      border-left-color: var(--fill-color);\n",
              "      border-top-color: var(--fill-color);\n",
              "    }\n",
              "    30% {\n",
              "      border-color: transparent;\n",
              "      border-left-color: var(--fill-color);\n",
              "      border-top-color: var(--fill-color);\n",
              "      border-right-color: var(--fill-color);\n",
              "    }\n",
              "    40% {\n",
              "      border-color: transparent;\n",
              "      border-right-color: var(--fill-color);\n",
              "      border-top-color: var(--fill-color);\n",
              "    }\n",
              "    60% {\n",
              "      border-color: transparent;\n",
              "      border-right-color: var(--fill-color);\n",
              "    }\n",
              "    80% {\n",
              "      border-color: transparent;\n",
              "      border-right-color: var(--fill-color);\n",
              "      border-bottom-color: var(--fill-color);\n",
              "    }\n",
              "    90% {\n",
              "      border-color: transparent;\n",
              "      border-bottom-color: var(--fill-color);\n",
              "    }\n",
              "  }\n",
              "</style>\n",
              "\n",
              "      <script>\n",
              "        async function quickchart(key) {\n",
              "          const quickchartButtonEl =\n",
              "            document.querySelector('#' + key + ' button');\n",
              "          quickchartButtonEl.disabled = true;  // To prevent multiple clicks.\n",
              "          quickchartButtonEl.classList.add('colab-df-spinner');\n",
              "          try {\n",
              "            const charts = await google.colab.kernel.invokeFunction(\n",
              "                'suggestCharts', [key], {});\n",
              "          } catch (error) {\n",
              "            console.error('Error during call to suggestCharts:', error);\n",
              "          }\n",
              "          quickchartButtonEl.classList.remove('colab-df-spinner');\n",
              "          quickchartButtonEl.classList.add('colab-df-quickchart-complete');\n",
              "        }\n",
              "        (() => {\n",
              "          let quickchartButtonEl =\n",
              "            document.querySelector('#df-6a4b8f07-9060-414a-bcf7-856f8814bf74 button');\n",
              "          quickchartButtonEl.style.display =\n",
              "            google.colab.kernel.accessAllowed ? 'block' : 'none';\n",
              "        })();\n",
              "      </script>\n",
              "    </div>\n",
              "\n",
              "    </div>\n",
              "  </div>\n"
            ],
            "text/plain": [
              "     headline     category  headline_length\n",
              "849         @     politics                1\n",
              "1720              business                0\n",
              "1819   closed     business                6\n",
              "2849  nursing    education                7\n",
              "3018  mostbet       sports                7\n",
              "3158  grownow       sports                7\n",
              "3502       hi       sports                2\n",
              "3552  fc news       sports                7\n",
              "4040             tv-movies                0\n",
              "4348  mankind    tv-movies                7\n",
              "4395   aliens    tv-movies                6\n",
              "4416    power    tv-movies                5\n",
              "4484   locked    tv-movies                6\n",
              "4504    hello    tv-movies                5\n",
              "4603  reacher    tv-movies                7\n",
              "4862  youtube    tv-movies                7\n",
              "5012     help  music-radio                4\n",
              "5053  hip hop  music-radio                7\n",
              "5109     esse  music-radio                4\n",
              "5181  in need  music-radio                7\n",
              "5324           music-radio                0\n",
              "5581     love  music-radio                4"
            ]
          },
          "execution_count": 198,
          "metadata": {},
          "output_type": "execute_result"
        }
      ],
      "source": [
        "dataset[dataset['headline_length'] <= 7]"
      ]
    },
    {
      "cell_type": "code",
      "execution_count": null,
      "metadata": {
        "id": "cEv0_60ow1WC"
      },
      "outputs": [],
      "source": [
        "dataset = dataset[dataset['headline_length'] >= 7]"
      ]
    },
    {
      "cell_type": "code",
      "execution_count": null,
      "metadata": {
        "id": "YEOx6iAG4nxu"
      },
      "outputs": [],
      "source": [
        "cleaned_dataset = dataset.drop(\"headline_length\", axis=1)"
      ]
    },
    {
      "cell_type": "code",
      "execution_count": null,
      "metadata": {
        "id": "UUmDN0jL4vt7"
      },
      "outputs": [],
      "source": [
        "cleaned_dataset = cleaned_dataset.reset_index(drop=True)"
      ]
    },
    {
      "cell_type": "code",
      "execution_count": null,
      "metadata": {
        "colab": {
          "base_uri": "https://localhost:8080/"
        },
        "id": "3vCj1f4V6DUh",
        "outputId": "00364ba7-1dbc-4e15-edae-7fe844abbe6d"
      },
      "outputs": [
        {
          "name": "stdout",
          "output_type": "stream",
          "text": [
            "<class 'pandas.core.frame.DataFrame'>\n",
            "RangeIndex: 5652 entries, 0 to 5651\n",
            "Data columns (total 2 columns):\n",
            " #   Column    Non-Null Count  Dtype \n",
            "---  ------    --------------  ----- \n",
            " 0   headline  5652 non-null   object\n",
            " 1   category  5652 non-null   object\n",
            "dtypes: object(2)\n",
            "memory usage: 88.4+ KB\n"
          ]
        }
      ],
      "source": [
        "cleaned_dataset.info()"
      ]
    },
    {
      "cell_type": "markdown",
      "metadata": {
        "id": "vrgdyJj9PgRm"
      },
      "source": [
        "# Futher Exploration"
      ]
    },
    {
      "cell_type": "code",
      "execution_count": null,
      "metadata": {
        "id": "Txo-xokIPmqq"
      },
      "outputs": [],
      "source": [
        "from sklearn.feature_extraction.text import CountVectorizer\n",
        "cv = CountVectorizer(stop_words='english')"
      ]
    },
    {
      "cell_type": "code",
      "execution_count": null,
      "metadata": {
        "colab": {
          "base_uri": "https://localhost:8080/"
        },
        "id": "qQoNcCYtP00w",
        "outputId": "d567189d-2387-4632-cf42-7f2004c5792d"
      },
      "outputs": [
        {
          "data": {
            "text/plain": [
              "array(['politics', 'business', 'education', 'sports', 'tv-movies',\n",
              "       'music-radio'], dtype=object)"
            ]
          },
          "execution_count": 204,
          "metadata": {},
          "output_type": "execute_result"
        }
      ],
      "source": [
        "cleaned_dataset['category'].unique()"
      ]
    },
    {
      "cell_type": "markdown",
      "metadata": {
        "id": "U49zWJMtV8D5"
      },
      "source": [
        "Word frequency analysis per category before applying max_df and min_df"
      ]
    },
    {
      "cell_type": "code",
      "execution_count": null,
      "metadata": {
        "id": "k1CwW1ldW9We"
      },
      "outputs": [],
      "source": [
        "test_dataset = cleaned_dataset.copy()"
      ]
    },
    {
      "cell_type": "code",
      "execution_count": null,
      "metadata": {
        "colab": {
          "base_uri": "https://localhost:8080/"
        },
        "id": "4TRqEupZPtog",
        "outputId": "07261e7b-f023-4365-b69b-9db525565a07"
      },
      "outputs": [
        {
          "name": "stdout",
          "output_type": "stream",
          "text": [
            "Top 20 words used for politics category\n",
            "[('tinubu', 166), ('nigeria', 112), ('obi', 75), ('state', 66), ('lagos', 56), ('2027', 48), ('adc', 47), ('anambra', 45), ('nigerians', 44), ('peter', 43), ('police', 41), ('apc', 40), ('video', 37), ('nigerian', 36), ('governor', 35), ('el', 34), ('rufai', 33), ('jonathan', 32), ('sowore', 32), ('president', 31)]\n",
            "\n",
            "\n",
            "Top 20 words used for business category\n",
            "[('nigeria', 107), ('business', 103), ('sale', 44), ('new', 34), ('2025', 31), ('design', 29), ('money', 27), ('available', 26), ('online', 26), ('services', 26), ('guide', 24), ('eunice', 23), ('08029562694', 21), ('website', 21), ('10', 20), ('ai', 20), ('dangote', 20), ('market', 20), ('naira', 20), ('need', 20)]\n",
            "\n",
            "\n",
            "Top 20 words used for education category\n",
            "[('2025', 82), ('university', 65), ('2026', 47), ('school', 38), ('students', 36), ('nigerian', 34), ('admission', 31), ('education', 31), ('nigeria', 29), ('student', 25), ('new', 24), ('study', 23), ('utme', 23), ('jamb', 22), ('waec', 22), ('fg', 21), ('post', 20), ('video', 20), ('free', 19), ('online', 18)]\n",
            "\n",
            "\n",
            "Top 20 words used for sports category\n",
            "[('super', 126), ('nigeria', 104), ('falcons', 91), ('2025', 73), ('football', 71), ('league', 55), ('wafcon', 54), ('cup', 47), ('world', 45), ('eagles', 43), ('vs', 43), ('afrobasket', 42), ('sports', 41), ('united', 40), ('tigress', 38), ('osimhen', 34), ('africa', 32), ('arsenal', 31), ('nigerian', 31), ('man', 30)]\n",
            "\n",
            "\n",
            "Top 20 words used for tv-movies category\n",
            "[('movie', 117), ('movies', 84), ('tv', 65), ('10', 61), ('best', 60), ('2025', 55), ('bbnaija', 49), ('download', 47), ('season', 47), ('free', 37), ('nollywood', 34), ('watch', 34), ('nigeria', 33), ('series', 32), ('review', 27), ('big', 26), ('nigerian', 26), ('youtube', 24), ('dstv', 23), ('love', 21)]\n",
            "\n",
            "\n",
            "Top 20 words used for music-radio category\n",
            "[('music', 151), ('video', 114), ('download', 102), ('mp3', 82), ('ft', 81), ('official', 65), ('dj', 63), ('album', 58), ('song', 57), ('best', 50), ('mixtape', 49), ('songs', 49), ('new', 47), ('boy', 36), ('nigerian', 33), ('lyrics', 29), ('burna', 25), ('nigeria', 24), ('asake', 23), ('rema', 23)]\n",
            "\n",
            "\n"
          ]
        }
      ],
      "source": [
        "# Top 20 words per category\n",
        "for category in test_dataset['category'].unique():\n",
        "  matrix = cv.fit_transform(test_dataset[test_dataset['category']==category]['headline'])\n",
        "  freqs = zip(cv.get_feature_names_out(), matrix.sum(axis=0).tolist()[0])\n",
        "  # sort from largest to smallest\n",
        "  print(f\"Top 20 words used for {category} category\")\n",
        "  print(sorted(freqs, key=lambda x: -x[1])[:20])\n",
        "  print(\"\\n\")"
      ]
    },
    {
      "cell_type": "code",
      "execution_count": null,
      "metadata": {
        "colab": {
          "background_save": true,
          "base_uri": "https://localhost:8080/"
        },
        "id": "QR8htZ16RHlk",
        "outputId": "b5ef2206-8ace-405b-83cf-2df708be9dce"
      },
      "outputs": [
        {
          "name": "stdout",
          "output_type": "stream",
          "text": [
            "Bottom 20 words used for politics category\n",
            "[('1000', 1), ('102', 1), ('10bscf', 1), ('11', 1), ('12hrs', 1), ('12th', 1), ('13', 1), ('130', 1), ('140', 1), ('150', 1), ('1500', 1), ('155', 1), ('17', 1), ('19', 1), ('1960s', 1), ('1996', 1), ('1billion', 1), ('1m', 1), ('2010', 1), ('2014', 1)]\n",
            "\n",
            "\n",
            "Bottom 20 words used for business category\n",
            "[('000mah', 1), ('00pm', 1), ('08029563694', 1), ('08112676222', 1), ('08148578730', 1), ('09041471516', 1), ('1000', 1), ('100ft', 1), ('100k', 1), ('10kva', 1), ('11th', 1), ('12', 1), ('122', 1), ('128', 1), ('128gb', 1), ('12gb', 1), ('150', 1), ('150m', 1), ('15k', 1), ('15sep25', 1)]\n",
            "\n",
            "\n",
            "Bottom 20 words used for education category\n",
            "[('08', 1), ('10m', 1), ('12', 1), ('120', 1), ('15', 1), ('150', 1), ('16', 1), ('16yr', 1), ('17', 1), ('172', 1), ('18', 1), ('1983', 1), ('2002', 1), ('2017', 1), ('21', 1), ('239', 1), ('25', 1), ('251', 1), ('26', 1), ('28', 1)]\n",
            "\n",
            "\n",
            "Bottom 20 words used for sports category\n",
            "[('0000', 1), ('02', 1), ('08', 1), ('0s2z1', 1), ('12bet', 1), ('12th', 1), ('130m', 1), ('14', 1), ('141st', 1), ('150', 1), ('160', 1), ('18th', 1), ('19', 1), ('1993', 1), ('1998', 1), ('1billion', 1), ('1m', 1), ('2005', 1), ('2006', 1), ('2030es', 1)]\n",
            "\n",
            "\n",
            "Bottom 20 words used for tv-movies category\n",
            "[('007', 1), ('100', 1), ('1080p', 1), ('10th', 1), ('132', 1), ('150m', 1), ('17k', 1), ('1923', 1), ('1970s', 1), ('1980', 1), ('1980s', 1), ('1990s', 1), ('1kva', 1), ('1m', 1), ('1year', 1), ('2000s', 1), ('2006', 1), ('2017', 1), ('2020', 1), ('222', 1)]\n",
            "\n",
            "\n",
            "Bottom 20 words used for music-radio category\n",
            "[('01', 1), ('010', 1), ('08', 1), ('104', 1), ('105', 1), ('10am', 1), ('11th', 1), ('12', 1), ('15', 1), ('15k', 1), ('17', 1), ('17th', 1), ('1923', 1), ('1940s', 1), ('1964', 1), ('1970s', 1), ('1980s', 1), ('1990s', 1), ('1spirit', 1), ('1st', 1)]\n",
            "\n",
            "\n"
          ]
        }
      ],
      "source": [
        "# Top 20 less used words per category\n",
        "for category in test_dataset['category'].unique():\n",
        "  matrix = cv.fit_transform(test_dataset[test_dataset['category']==category]['headline'])\n",
        "  freqs = zip(cv.get_feature_names_out(), matrix.sum(axis=0).tolist()[0])\n",
        "  # sort from smallest to largest\n",
        "  print(f\"Bottom 20 words used for {category} category\")\n",
        "  print(sorted(freqs, key=lambda x: x[1])[:20])\n",
        "  print(\"\\n\")"
      ]
    },
    {
      "cell_type": "markdown",
      "metadata": {
        "id": "ylTiC6qoWsqB"
      },
      "source": [
        "Word frequency analysis after applying max and min df"
      ]
    },
    {
      "cell_type": "code",
      "execution_count": null,
      "metadata": {
        "colab": {
          "background_save": true
        },
        "id": "OVByZHD3bxVf"
      },
      "outputs": [],
      "source": [
        "cv = CountVectorizer(stop_words='english', max_df=0.8, min_df=0.01)"
      ]
    },
    {
      "cell_type": "code",
      "execution_count": null,
      "metadata": {
        "colab": {
          "background_save": true,
          "base_uri": "https://localhost:8080/"
        },
        "id": "oRC5iihEbxBr",
        "outputId": "ff8fa953-b09a-4912-f38c-997a9fe9d175"
      },
      "outputs": [
        {
          "name": "stdout",
          "output_type": "stream",
          "text": [
            "Top 20 words used for politics category\n",
            "[('tinubu', 166), ('nigeria', 112), ('obi', 75), ('state', 66), ('lagos', 56), ('2027', 48), ('adc', 47), ('anambra', 45), ('nigerians', 44), ('peter', 43), ('police', 41), ('apc', 40), ('video', 37), ('nigerian', 36), ('governor', 35), ('el', 34), ('rufai', 33), ('jonathan', 32), ('sowore', 32), ('president', 31)]\n",
            "\n",
            "\n",
            "Top 20 words used for business category\n",
            "[('nigeria', 107), ('business', 103), ('sale', 44), ('new', 34), ('2025', 31), ('design', 29), ('money', 27), ('available', 26), ('online', 26), ('services', 26), ('guide', 24), ('eunice', 23), ('08029562694', 21), ('website', 21), ('10', 20), ('ai', 20), ('dangote', 20), ('market', 20), ('naira', 20), ('need', 20)]\n",
            "\n",
            "\n",
            "Top 20 words used for education category\n",
            "[('2025', 82), ('university', 65), ('2026', 47), ('school', 38), ('students', 36), ('nigerian', 34), ('admission', 31), ('education', 31), ('nigeria', 29), ('student', 25), ('new', 24), ('study', 23), ('utme', 23), ('jamb', 22), ('waec', 22), ('fg', 21), ('post', 20), ('video', 20), ('free', 19), ('online', 18)]\n",
            "\n",
            "\n",
            "Top 20 words used for sports category\n",
            "[('super', 126), ('nigeria', 104), ('falcons', 91), ('2025', 73), ('football', 71), ('league', 55), ('wafcon', 54), ('cup', 47), ('world', 45), ('eagles', 43), ('vs', 43), ('afrobasket', 42), ('sports', 41), ('united', 40), ('tigress', 38), ('osimhen', 34), ('africa', 32), ('arsenal', 31), ('nigerian', 31), ('man', 30)]\n",
            "\n",
            "\n",
            "Top 20 words used for tv-movies category\n",
            "[('movie', 117), ('movies', 84), ('tv', 65), ('10', 61), ('best', 60), ('2025', 55), ('bbnaija', 49), ('download', 47), ('season', 47), ('free', 37), ('nollywood', 34), ('watch', 34), ('nigeria', 33), ('series', 32), ('review', 27), ('big', 26), ('nigerian', 26), ('youtube', 24), ('dstv', 23), ('love', 21)]\n",
            "\n",
            "\n",
            "Top 20 words used for music-radio category\n",
            "[('music', 151), ('video', 114), ('download', 102), ('mp3', 82), ('ft', 81), ('official', 65), ('dj', 63), ('album', 58), ('song', 57), ('best', 50), ('mixtape', 49), ('songs', 49), ('new', 47), ('boy', 36), ('nigerian', 33), ('lyrics', 29), ('burna', 25), ('nigeria', 24), ('asake', 23), ('rema', 23)]\n",
            "\n",
            "\n"
          ]
        }
      ],
      "source": [
        "# Top 20 words per category\n",
        "for category in test_dataset['category'].unique():\n",
        "  matrix = cv.fit_transform(test_dataset[test_dataset['category']==category]['headline'])\n",
        "  freqs = zip(cv.get_feature_names_out(), matrix.sum(axis=0).tolist()[0])\n",
        "  # sort from largest to smallest\n",
        "  print(f\"Top 20 words used for {category} category\")\n",
        "  print(sorted(freqs, key=lambda x: -x[1])[:20])\n",
        "  print(\"\\n\")"
      ]
    },
    {
      "cell_type": "code",
      "execution_count": null,
      "metadata": {
        "colab": {
          "background_save": true,
          "base_uri": "https://localhost:8080/"
        },
        "id": "b5dYEgyqcRX3",
        "outputId": "3683e9ed-0131-4f11-84bc-93af2bfcd64c"
      },
      "outputs": [
        {
          "name": "stdout",
          "output_type": "stream",
          "text": [
            "Bottom 20 words used for politics category\n",
            "[('chairman', 12), ('chief', 12), ('dangote', 12), ('end', 12), ('enugu', 12), ('nupeng', 12), ('omokri', 12), ('support', 12), ('yoruba', 12), ('apga', 13), ('blasts', 13), ('million', 13), ('party', 13), ('people', 13), ('politics', 13), ('senate', 13), ('breaking', 14), ('ex', 14), ('group', 14), ('minister', 14)]\n",
            "\n",
            "\n",
            "Bottom 20 words used for business category\n",
            "[('building', 10), ('don', 10), ('dr', 10), ('gift', 10), ('service', 10), ('skills', 10), ('cost', 11), ('dollar', 11), ('know', 11), ('let', 11), ('loan', 11), ('professional', 11), ('trade', 11), ('card', 12), ('help', 12), ('home', 12), ('investment', 12), ('prices', 12), ('000', 13), ('account', 13)]\n",
            "\n",
            "\n",
            "Bottom 20 words used for education category\n",
            "[('canada', 7), ('countries', 7), ('course', 7), ('day', 7), ('degree', 7), ('digital', 7), ('download', 7), ('english', 7), ('future', 7), ('medical', 7), ('open', 7), ('photos', 7), ('primary', 7), ('private', 7), ('pupils', 7), ('secondary', 7), ('topics', 7), ('courses', 8), ('make', 8), ('materials', 8)]\n",
            "\n",
            "\n",
            "Bottom 20 words used for sports category\n",
            "[('000', 11), ('celebrates', 11), ('chief', 11), ('day', 11), ('defeat', 11), ('game', 11), ('isak', 11), ('join', 11), ('match', 11), ('news', 11), ('ufc', 11), ('update', 11), ('winning', 11), ('ajibade', 12), ('caf', 12), ('city', 12), ('fifa', 12), ('inter', 12), ('joins', 12), ('qualifiers', 12)]\n",
            "\n",
            "\n",
            "Bottom 20 words used for tv-movies category\n",
            "[('amvca', 9), ('boy', 9), ('buy', 9), ('downloading', 9), ('gotv', 9), ('price', 9), ('secret', 9), ('shows', 9), ('sites', 9), ('wife', 9), ('android', 10), ('app', 10), ('horror', 10), ('streaming', 10), ('thread', 10), ('time', 10), ('africa', 11), ('hollywood', 11), ('old', 11), ('action', 12)]\n",
            "\n",
            "\n",
            "Bottom 20 words used for music-radio category\n",
            "[('2025', 9), ('artists', 9), ('good', 9), ('hit', 9), ('lil', 9), ('naija', 9), ('olamide', 9), ('old', 9), ('performance', 9), ('young', 9), ('afrobeat', 10), ('ayra', 10), ('latest', 10), ('lay', 10), ('omah', 10), ('radio', 10), ('starr', 10), ('afrobeats', 11), ('love', 11), ('seyi', 11)]\n",
            "\n",
            "\n"
          ]
        }
      ],
      "source": [
        "# Top 20 less used words per category\n",
        "for category in test_dataset['category'].unique():\n",
        "  matrix = cv.fit_transform(test_dataset[test_dataset['category']==category]['headline'])\n",
        "  freqs = zip(cv.get_feature_names_out(), matrix.sum(axis=0).tolist()[0])\n",
        "  # sort from smallest to largest\n",
        "  print(f\"Bottom 20 words used for {category} category\")\n",
        "  print(sorted(freqs, key=lambda x: x[1])[:20])\n",
        "  print(\"\\n\")"
      ]
    },
    {
      "cell_type": "markdown",
      "metadata": {
        "id": "0JKriQZl7EY9"
      },
      "source": [
        "Afte using max_df and min_df in the TdifVectoriser and training the model with vectorised train sets, I discovered that the dataset lost important signals from the filtering making accuracy and precision drop drastically to below 0.5 each. You can try that with\n",
        "\n",
        "vectoriser = TfidfVectorizer(stop_words='english', max_df=0.8, min_df=0.01)"
      ]
    },
    {
      "cell_type": "markdown",
      "metadata": {
        "id": "yEXNGCFzKDIp"
      },
      "source": [
        "# Spliting the dataset"
      ]
    },
    {
      "cell_type": "code",
      "execution_count": null,
      "metadata": {
        "colab": {
          "background_save": true
        },
        "id": "0pr2SHtU-zJr"
      },
      "outputs": [],
      "source": [
        "from sklearn.model_selection import train_test_split, StratifiedKFold, GridSearchCV"
      ]
    },
    {
      "cell_type": "code",
      "execution_count": null,
      "metadata": {
        "colab": {
          "background_save": true
        },
        "id": "mfMBTcLUMF6u"
      },
      "outputs": [],
      "source": [
        "X = cleaned_dataset['headline']"
      ]
    },
    {
      "cell_type": "code",
      "execution_count": null,
      "metadata": {
        "colab": {
          "background_save": true
        },
        "id": "wypPWI-dMZT_"
      },
      "outputs": [],
      "source": [
        "y = cleaned_dataset['category']"
      ]
    },
    {
      "cell_type": "code",
      "execution_count": null,
      "metadata": {
        "colab": {
          "background_save": true
        },
        "id": "kYZ-6xRoL5tK"
      },
      "outputs": [],
      "source": [
        "X_train, X_test, y_train, y_test = train_test_split(X, y, test_size=0.2, random_state=101)"
      ]
    },
    {
      "cell_type": "markdown",
      "metadata": {
        "id": "rIoNVypWNHl2"
      },
      "source": [
        "# Modelling and Evaluation"
      ]
    },
    {
      "cell_type": "code",
      "execution_count": null,
      "metadata": {
        "colab": {
          "background_save": true
        },
        "id": "zBGC1nBjNU6s"
      },
      "outputs": [],
      "source": [
        "from sklearn.metrics import accuracy_score, classification_report, ConfusionMatrixDisplay, f1_score"
      ]
    },
    {
      "cell_type": "code",
      "execution_count": null,
      "metadata": {
        "colab": {
          "background_save": true
        },
        "id": "hML8DT8KSbI2"
      },
      "outputs": [],
      "source": [
        "from sklearn.feature_extraction.text import TfidfVectorizer"
      ]
    },
    {
      "cell_type": "code",
      "execution_count": null,
      "metadata": {
        "colab": {
          "background_save": true
        },
        "id": "JxQZPPPNIxH0"
      },
      "outputs": [],
      "source": [
        "from sklearn. preprocessing import LabelEncoder"
      ]
    },
    {
      "cell_type": "code",
      "execution_count": null,
      "metadata": {
        "colab": {
          "background_save": true
        },
        "id": "b-EP4ZmnSXNd"
      },
      "outputs": [],
      "source": [
        "vectoriser = TfidfVectorizer(stop_words='english', max_df=0.9, min_df=0.001)"
      ]
    },
    {
      "cell_type": "code",
      "execution_count": null,
      "metadata": {
        "colab": {
          "background_save": true
        },
        "id": "i3oZrZHLSrWU"
      },
      "outputs": [],
      "source": [
        "X_train = vectoriser.fit_transform(X_train)"
      ]
    },
    {
      "cell_type": "code",
      "execution_count": null,
      "metadata": {
        "colab": {
          "background_save": true
        },
        "id": "SGv0EDAcTElt"
      },
      "outputs": [],
      "source": [
        "X_test = vectoriser.transform(X_test)"
      ]
    },
    {
      "cell_type": "code",
      "execution_count": null,
      "metadata": {
        "colab": {
          "background_save": true
        },
        "id": "d8NaarSqJVuW"
      },
      "outputs": [],
      "source": [
        "le = LabelEncoder()"
      ]
    },
    {
      "cell_type": "code",
      "execution_count": null,
      "metadata": {
        "colab": {
          "background_save": true
        },
        "id": "gejnYDN5I4Q8"
      },
      "outputs": [],
      "source": [
        "y_train_encoded = le.fit_transform(y_train)"
      ]
    },
    {
      "cell_type": "code",
      "execution_count": null,
      "metadata": {
        "colab": {
          "background_save": true
        },
        "id": "Alhbs59oI4CS"
      },
      "outputs": [],
      "source": [
        "y_test_encoded = le.transform(y_test)"
      ]
    },
    {
      "cell_type": "code",
      "execution_count": null,
      "metadata": {
        "colab": {
          "background_save": true
        },
        "id": "Pc12Sn7hN5-a"
      },
      "outputs": [],
      "source": [
        "def evaluate_model(model):\n",
        "  model.fit(X_train, y_train_encoded)\n",
        "  y_pred = model.predict(X_test)\n",
        "\n",
        "  accuracy = round(accuracy_score(y_test_encoded, y_pred),2)\n",
        "  f1_score_ = round(f1_score(y_test_encoded, y_pred, average='weighted'),2)\n",
        "\n",
        "  print(model)\n",
        "  print(classification_report(y_test_encoded, y_pred, target_names=le.classes_))\n",
        "\n",
        "  plt.figure(figsize=(12,10))\n",
        "  ConfusionMatrixDisplay.from_predictions(y_test_encoded, y_pred, display_labels=le.classes_)\n",
        "  plt.xticks(rotation=90)\n",
        "  plt.show()\n",
        "  print(f\"Accuracy: {accuracy}\")\n",
        "  print(f\"F1 Score: {f1_score_}\")"
      ]
    },
    {
      "cell_type": "markdown",
      "metadata": {
        "id": "AzB8oIPtNOM8"
      },
      "source": [
        "using logistic regression"
      ]
    },
    {
      "cell_type": "code",
      "execution_count": null,
      "metadata": {
        "colab": {
          "background_save": true
        },
        "id": "E34eXkeyMc_Z"
      },
      "outputs": [],
      "source": [
        "from sklearn.linear_model import LogisticRegression"
      ]
    },
    {
      "cell_type": "code",
      "execution_count": null,
      "metadata": {
        "colab": {
          "background_save": true
        },
        "id": "1MnXVSPwOLW2"
      },
      "outputs": [],
      "source": [
        "# Base logistic regression\n",
        "base_log = LogisticRegression(class_weight=\"balanced\")"
      ]
    },
    {
      "cell_type": "code",
      "execution_count": null,
      "metadata": {
        "colab": {
          "background_save": true,
          "base_uri": "https://localhost:8080/",
          "height": 812
        },
        "id": "OOnzoUlUOOqo",
        "outputId": "4dc5f181-af40-4c74-ff5d-dc32996e9eed"
      },
      "outputs": [
        {
          "name": "stdout",
          "output_type": "stream",
          "text": [
            "LogisticRegression(class_weight='balanced')\n",
            "              precision    recall  f1-score   support\n",
            "\n",
            "    business       0.60      0.69      0.64       209\n",
            "   education       0.72      0.72      0.72       134\n",
            " music-radio       0.90      0.75      0.82       174\n",
            "    politics       0.71      0.80      0.76       234\n",
            "      sports       0.91      0.78      0.84       227\n",
            "   tv-movies       0.70      0.69      0.70       153\n",
            "\n",
            "    accuracy                           0.74      1131\n",
            "   macro avg       0.76      0.74      0.74      1131\n",
            "weighted avg       0.76      0.74      0.75      1131\n",
            "\n"
          ]
        },
        {
          "data": {
            "text/plain": [
              "<Figure size 1200x1000 with 0 Axes>"
            ]
          },
          "metadata": {},
          "output_type": "display_data"
        },
        {
          "data": {
            "image/png": "[encoded data removed]",
            "text/plain": [
              "<Figure size 640x480 with 2 Axes>"
            ]
          },
          "metadata": {},
          "output_type": "display_data"
        },
        {
          "name": "stdout",
          "output_type": "stream",
          "text": [
            "Accuracy: 0.74\n",
            "F1 Score: 0.75\n"
          ]
        }
      ],
      "source": [
        "evaluate_model(base_log)"
      ]
    },
    {
      "cell_type": "code",
      "execution_count": null,
      "metadata": {
        "colab": {
          "background_save": true
        },
        "id": "2XPqtWuSOR90"
      },
      "outputs": [],
      "source": [
        "# Logistic regression cv\n",
        "from sklearn.linear_model import LogisticRegressionCV"
      ]
    },
    {
      "cell_type": "code",
      "execution_count": null,
      "metadata": {
        "colab": {
          "background_save": true
        },
        "id": "v8ONPJxFWH85"
      },
      "outputs": [],
      "source": [
        "cv = StratifiedKFold(n_splits=5, shuffle=True, random_state=101)"
      ]
    },
    {
      "cell_type": "code",
      "execution_count": null,
      "metadata": {
        "colab": {
          "background_save": true
        },
        "id": "VucBNWVhV1HU"
      },
      "outputs": [],
      "source": [
        "log_model = LogisticRegressionCV(cv=cv, Cs=10, class_weight=\"balanced\", scoring='f1_weighted')"
      ]
    },
    {
      "cell_type": "code",
      "execution_count": null,
      "metadata": {
        "colab": {
          "background_save": true,
          "base_uri": "https://localhost:8080/",
          "height": 847
        },
        "id": "1T8SOqFEXXAG",
        "outputId": "7df64332-2e8d-4326-a175-3bd22506f10f"
      },
      "outputs": [
        {
          "name": "stdout",
          "output_type": "stream",
          "text": [
            "LogisticRegressionCV(class_weight='balanced',\n",
            "                     cv=StratifiedKFold(n_splits=5, random_state=101, shuffle=True),\n",
            "                     scoring='f1_weighted')\n",
            "              precision    recall  f1-score   support\n",
            "\n",
            "    business       0.58      0.69      0.63       209\n",
            "   education       0.70      0.71      0.70       134\n",
            " music-radio       0.88      0.74      0.80       174\n",
            "    politics       0.74      0.80      0.77       234\n",
            "      sports       0.92      0.79      0.85       227\n",
            "   tv-movies       0.68      0.68      0.68       153\n",
            "\n",
            "    accuracy                           0.74      1131\n",
            "   macro avg       0.75      0.74      0.74      1131\n",
            "weighted avg       0.76      0.74      0.75      1131\n",
            "\n"
          ]
        },
        {
          "data": {
            "text/plain": [
              "<Figure size 1200x1000 with 0 Axes>"
            ]
          },
          "metadata": {},
          "output_type": "display_data"
        },
        {
          "data": {
            "image/png": "[encoded data removed]",
            "text/plain": [
              "<Figure size 640x480 with 2 Axes>"
            ]
          },
          "metadata": {},
          "output_type": "display_data"
        },
        {
          "name": "stdout",
          "output_type": "stream",
          "text": [
            "Accuracy: 0.74\n",
            "F1 Score: 0.75\n"
          ]
        }
      ],
      "source": [
        "evaluate_model(log_model)"
      ]
    },
    {
      "cell_type": "markdown",
      "metadata": {
        "id": "9CyU6cVTYeao"
      },
      "source": [
        "Using KNN"
      ]
    },
    {
      "cell_type": "code",
      "execution_count": null,
      "metadata": {
        "colab": {
          "background_save": true
        },
        "id": "x2AAOJrzYH4Z"
      },
      "outputs": [],
      "source": [
        "from sklearn.neighbors import KNeighborsClassifier"
      ]
    },
    {
      "cell_type": "code",
      "execution_count": null,
      "metadata": {
        "colab": {
          "background_save": true
        },
        "id": "RrZ1gWRKYzlh"
      },
      "outputs": [],
      "source": [
        "base_knn = KNeighborsClassifier()"
      ]
    },
    {
      "cell_type": "code",
      "execution_count": null,
      "metadata": {
        "colab": {
          "background_save": true,
          "base_uri": "https://localhost:8080/",
          "height": 812
        },
        "id": "4BmpXUQhldOZ",
        "outputId": "fedb90c8-7dd9-458d-a366-3bb8ca0d592d"
      },
      "outputs": [
        {
          "name": "stdout",
          "output_type": "stream",
          "text": [
            "KNeighborsClassifier()\n",
            "              precision    recall  f1-score   support\n",
            "\n",
            "    business       0.33      0.71      0.45       209\n",
            "   education       0.69      0.30      0.42       134\n",
            " music-radio       0.58      0.67      0.62       174\n",
            "    politics       0.67      0.32      0.44       234\n",
            "      sports       0.88      0.36      0.51       227\n",
            "   tv-movies       0.41      0.57      0.47       153\n",
            "\n",
            "    accuracy                           0.49      1131\n",
            "   macro avg       0.59      0.49      0.48      1131\n",
            "weighted avg       0.60      0.49      0.48      1131\n",
            "\n"
          ]
        },
        {
          "data": {
            "text/plain": [
              "<Figure size 1200x1000 with 0 Axes>"
            ]
          },
          "metadata": {},
          "output_type": "display_data"
        },
        {
          "data": {
            "image/png": "[encoded data removed]",
            "text/plain": [
              "<Figure size 640x480 with 2 Axes>"
            ]
          },
          "metadata": {},
          "output_type": "display_data"
        },
        {
          "name": "stdout",
          "output_type": "stream",
          "text": [
            "Accuracy: 0.49\n",
            "F1 Score: 0.48\n"
          ]
        }
      ],
      "source": [
        "evaluate_model(base_knn)"
      ]
    },
    {
      "cell_type": "code",
      "execution_count": null,
      "metadata": {
        "colab": {
          "background_save": true,
          "base_uri": "https://localhost:8080/"
        },
        "id": "7Ndu-E3KmuXN",
        "outputId": "5cb1fc04-a502-42c9-d847-4ba6bf6f9496"
      },
      "outputs": [
        {
          "data": {
            "text/plain": [
              "{'algorithm': 'auto',\n",
              " 'leaf_size': 30,\n",
              " 'metric': 'minkowski',\n",
              " 'metric_params': None,\n",
              " 'n_jobs': None,\n",
              " 'n_neighbors': 5,\n",
              " 'p': 2,\n",
              " 'weights': 'uniform'}"
            ]
          },
          "execution_count": 329,
          "metadata": {},
          "output_type": "execute_result"
        }
      ],
      "source": [
        "base_knn.get_params()"
      ]
    },
    {
      "cell_type": "code",
      "execution_count": null,
      "metadata": {
        "colab": {
          "background_save": true
        },
        "id": "DD4lUSGPlfNS"
      },
      "outputs": [],
      "source": [
        "# KNN CV\n",
        "param_grid = {\n",
        "    'n_neighbors': range(1, 21),\n",
        "}"
      ]
    },
    {
      "cell_type": "code",
      "execution_count": null,
      "metadata": {
        "colab": {
          "background_save": true
        },
        "id": "sNiaUyCBlwl8"
      },
      "outputs": [],
      "source": [
        "knn_grid = GridSearchCV(base_knn, param_grid, cv=cv, scoring='f1_weighted')"
      ]
    },
    {
      "cell_type": "code",
      "execution_count": null,
      "metadata": {
        "colab": {
          "base_uri": "https://localhost:8080/",
          "height": 847
        },
        "id": "Y1XZs4J5mHGg",
        "outputId": "8bda0736-fb43-49c7-c2a0-915a3ed4eeab"
      },
      "outputs": [
        {
          "name": "stdout",
          "output_type": "stream",
          "text": [
            "GridSearchCV(cv=StratifiedKFold(n_splits=5, random_state=101, shuffle=True),\n",
            "             estimator=KNeighborsClassifier(),\n",
            "             param_grid={'n_neighbors': range(1, 21)}, scoring='f1_weighted')\n",
            "              precision    recall  f1-score   support\n",
            "\n",
            "    business       0.38      0.51      0.44       209\n",
            "   education       0.57      0.43      0.49       134\n",
            " music-radio       0.67      0.64      0.66       174\n",
            "    politics       0.59      0.53      0.55       234\n",
            "      sports       0.73      0.55      0.62       227\n",
            "   tv-movies       0.44      0.57      0.49       153\n",
            "\n",
            "    accuracy                           0.54      1131\n",
            "   macro avg       0.56      0.54      0.54      1131\n",
            "weighted avg       0.57      0.54      0.55      1131\n",
            "\n"
          ]
        },
        {
          "data": {
            "text/plain": [
              "<Figure size 1200x1000 with 0 Axes>"
            ]
          },
          "metadata": {},
          "output_type": "display_data"
        },
        {
          "data": {
            "image/png": "[encoded data removed]",
            "text/plain": [
              "<Figure size 640x480 with 2 Axes>"
            ]
          },
          "metadata": {},
          "output_type": "display_data"
        },
        {
          "name": "stdout",
          "output_type": "stream",
          "text": [
            "Accuracy: 0.54\n",
            "F1 Score: 0.55\n"
          ]
        }
      ],
      "source": [
        "evaluate_model(knn_grid)"
      ]
    },
    {
      "cell_type": "code",
      "execution_count": null,
      "metadata": {
        "colab": {
          "base_uri": "https://localhost:8080/"
        },
        "id": "eb5WLfz6mNp3",
        "outputId": "1eaaca17-eee4-445e-efd8-541d8f3c861c"
      },
      "outputs": [
        {
          "data": {
            "text/plain": [
              "{'n_neighbors': 1}"
            ]
          },
          "execution_count": 239,
          "metadata": {},
          "output_type": "execute_result"
        }
      ],
      "source": [
        "knn_grid.best_params_"
      ]
    },
    {
      "cell_type": "markdown",
      "metadata": {
        "id": "boF2foH0_kQI"
      },
      "source": [
        "using SVC"
      ]
    },
    {
      "cell_type": "code",
      "execution_count": null,
      "metadata": {
        "id": "n9FeVMFLmrQK"
      },
      "outputs": [],
      "source": [
        "from sklearn.svm import SVC"
      ]
    },
    {
      "cell_type": "code",
      "execution_count": null,
      "metadata": {
        "id": "gBFE4C1Ungs8"
      },
      "outputs": [],
      "source": [
        "base_svc = SVC(class_weight=\"balanced\")"
      ]
    },
    {
      "cell_type": "code",
      "execution_count": null,
      "metadata": {
        "colab": {
          "base_uri": "https://localhost:8080/",
          "height": 812
        },
        "id": "DxEbuoMtnjZO",
        "outputId": "af79155e-34bb-4f0a-eaf6-1c7f94d8243d"
      },
      "outputs": [
        {
          "name": "stdout",
          "output_type": "stream",
          "text": [
            "SVC(class_weight='balanced')\n",
            "              precision    recall  f1-score   support\n",
            "\n",
            "    business       0.66      0.68      0.67       209\n",
            "   education       0.76      0.68      0.72       134\n",
            " music-radio       0.90      0.72      0.80       174\n",
            "    politics       0.68      0.83      0.75       234\n",
            "      sports       0.93      0.80      0.86       227\n",
            "   tv-movies       0.61      0.70      0.65       153\n",
            "\n",
            "    accuracy                           0.74      1131\n",
            "   macro avg       0.76      0.74      0.74      1131\n",
            "weighted avg       0.76      0.74      0.75      1131\n",
            "\n"
          ]
        },
        {
          "data": {
            "text/plain": [
              "<Figure size 1200x1000 with 0 Axes>"
            ]
          },
          "metadata": {},
          "output_type": "display_data"
        },
        {
          "data": {
            "image/png": "[encoded data removed]",
            "text/plain": [
              "<Figure size 640x480 with 2 Axes>"
            ]
          },
          "metadata": {},
          "output_type": "display_data"
        },
        {
          "name": "stdout",
          "output_type": "stream",
          "text": [
            "Accuracy: 0.74\n",
            "F1 Score: 0.75\n"
          ]
        }
      ],
      "source": [
        "evaluate_model(base_svc)"
      ]
    },
    {
      "cell_type": "code",
      "execution_count": null,
      "metadata": {
        "id": "9rpReF3wnlj7"
      },
      "outputs": [],
      "source": [
        "# Cross validation with svc\n",
        "param_grid = {\n",
        "    'C': [0.001, 0.01, 0.1, 1, 10, 100],\n",
        "    'gamma': [1, 0.1, 0.01, 0.001],\n",
        "    'kernel': ['rbf', 'poly', 'linear']\n",
        "}"
      ]
    },
    {
      "cell_type": "code",
      "execution_count": null,
      "metadata": {
        "id": "7vY1JEDTqbuC"
      },
      "outputs": [],
      "source": [
        "svc_grid = GridSearchCV(base_svc, param_grid, cv=cv, scoring='f1_weighted')"
      ]
    },
    {
      "cell_type": "code",
      "execution_count": 339,
      "metadata": {
        "colab": {
          "base_uri": "https://localhost:8080/",
          "height": 899
        },
        "id": "kKxaNVG4qduY",
        "outputId": "d12db049-b23a-4a3c-aa93-335039f7d621"
      },
      "outputs": [
        {
          "output_type": "stream",
          "name": "stdout",
          "text": [
            "GridSearchCV(cv=StratifiedKFold(n_splits=5, random_state=101, shuffle=True),\n",
            "             estimator=SVC(class_weight='balanced'),\n",
            "             param_grid={'C': [0.001, 0.01, 0.1, 1, 10, 100],\n",
            "                         'gamma': [1, 0.1, 0.01, 0.001],\n",
            "                         'kernel': ['rbf', 'poly', 'linear']},\n",
            "             scoring='f1_weighted')\n",
            "              precision    recall  f1-score   support\n",
            "\n",
            "    business       0.66      0.68      0.67       209\n",
            "   education       0.75      0.68      0.71       134\n",
            " music-radio       0.90      0.72      0.80       174\n",
            "    politics       0.69      0.83      0.75       234\n",
            "      sports       0.92      0.80      0.86       227\n",
            "   tv-movies       0.61      0.70      0.65       153\n",
            "\n",
            "    accuracy                           0.74      1131\n",
            "   macro avg       0.76      0.74      0.74      1131\n",
            "weighted avg       0.76      0.74      0.75      1131\n",
            "\n"
          ]
        },
        {
          "output_type": "display_data",
          "data": {
            "text/plain": [
              "<Figure size 1200x1000 with 0 Axes>"
            ]
          },
          "metadata": {}
        },
        {
          "output_type": "display_data",
          "data": {
            "text/plain": [
              "<Figure size 640x480 with 2 Axes>"
            ],
            "image/png": "[encoded data removed]"
          },
          "metadata": {}
        },
        {
          "output_type": "stream",
          "name": "stdout",
          "text": [
            "Accuracy: 0.74\n",
            "F1 Score: 0.75\n"
          ]
        }
      ],
      "source": [
        "evaluate_model(svc_grid)"
      ]
    },
    {
      "cell_type": "code",
      "execution_count": 340,
      "metadata": {
        "colab": {
          "base_uri": "https://localhost:8080/"
        },
        "id": "0wFBU8pMtf-e",
        "outputId": "0e354ade-48a0-4b9c-d2e9-2fe87cab4f79"
      },
      "outputs": [
        {
          "data": {
            "text/plain": [
              "{'C': 1, 'gamma': 1, 'kernel': 'rbf'}"
            ]
          },
          "execution_count": 340,
          "metadata": {},
          "output_type": "execute_result"
        }
      ],
      "source": [
        "svc_grid.best_params_"
      ]
    },
    {
      "cell_type": "code",
      "execution_count": 341,
      "metadata": {
        "id": "oZJPiQmetsqH"
      },
      "outputs": [],
      "source": [
        "# Linear SVC\n",
        "from sklearn.svm import LinearSVC"
      ]
    },
    {
      "cell_type": "code",
      "execution_count": 342,
      "metadata": {
        "id": "SzApfOBJtsiz"
      },
      "outputs": [],
      "source": [
        "linear_svc = LinearSVC(class_weight=\"balanced\")"
      ]
    },
    {
      "cell_type": "code",
      "execution_count": 343,
      "metadata": {
        "colab": {
          "base_uri": "https://localhost:8080/",
          "height": 812
        },
        "id": "rK9xC8Sltypy",
        "outputId": "efebd017-faed-4d44-f84e-f678daef6dfb"
      },
      "outputs": [
        {
          "output_type": "stream",
          "name": "stdout",
          "text": [
            "LinearSVC(class_weight='balanced')\n",
            "              precision    recall  f1-score   support\n",
            "\n",
            "    business       0.58      0.64      0.61       209\n",
            "   education       0.64      0.67      0.65       134\n",
            " music-radio       0.89      0.75      0.82       174\n",
            "    politics       0.71      0.78      0.74       234\n",
            "      sports       0.89      0.80      0.84       227\n",
            "   tv-movies       0.69      0.67      0.68       153\n",
            "\n",
            "    accuracy                           0.73      1131\n",
            "   macro avg       0.73      0.72      0.72      1131\n",
            "weighted avg       0.74      0.73      0.73      1131\n",
            "\n"
          ]
        },
        {
          "output_type": "display_data",
          "data": {
            "text/plain": [
              "<Figure size 1200x1000 with 0 Axes>"
            ]
          },
          "metadata": {}
        },
        {
          "output_type": "display_data",
          "data": {
            "text/plain": [
              "<Figure size 640x480 with 2 Axes>"
            ],
            "image/png": "[encoded data removed]"
          },
          "metadata": {}
        },
        {
          "output_type": "stream",
          "name": "stdout",
          "text": [
            "Accuracy: 0.73\n",
            "F1 Score: 0.73\n"
          ]
        }
      ],
      "source": [
        "evaluate_model(linear_svc)"
      ]
    },
    {
      "cell_type": "markdown",
      "metadata": {
        "id": "drIQeSArtaSn"
      },
      "source": [
        "using naive bayes"
      ]
    },
    {
      "cell_type": "code",
      "execution_count": 344,
      "metadata": {
        "id": "n8UQPdU3qgTJ"
      },
      "outputs": [],
      "source": [
        "from sklearn.naive_bayes import MultinomialNB"
      ]
    },
    {
      "cell_type": "code",
      "execution_count": 345,
      "metadata": {
        "id": "aVVnFHRxtFb9"
      },
      "outputs": [],
      "source": [
        "nvb = MultinomialNB()"
      ]
    },
    {
      "cell_type": "code",
      "execution_count": 346,
      "metadata": {
        "colab": {
          "base_uri": "https://localhost:8080/",
          "height": 817
        },
        "id": "o4jDo01stH0r",
        "outputId": "37c04ed1-f960-4d3d-ba26-d0e1cd80d49d"
      },
      "outputs": [
        {
          "output_type": "stream",
          "name": "stdout",
          "text": [
            "MultinomialNB()\n",
            "              precision    recall  f1-score   support\n",
            "\n",
            "    business       0.69      0.68      0.69       209\n",
            "   education       0.90      0.60      0.72       134\n",
            " music-radio       0.90      0.77      0.83       174\n",
            "    politics       0.62      0.85      0.72       234\n",
            "      sports       0.85      0.81      0.83       227\n",
            "   tv-movies       0.69      0.67      0.68       153\n",
            "\n",
            "    accuracy                           0.75      1131\n",
            "   macro avg       0.78      0.73      0.74      1131\n",
            "weighted avg       0.77      0.75      0.75      1131\n",
            "\n"
          ]
        },
        {
          "output_type": "display_data",
          "data": {
            "text/plain": [
              "<Figure size 1200x1000 with 0 Axes>"
            ]
          },
          "metadata": {}
        },
        {
          "output_type": "display_data",
          "data": {
            "text/plain": [
              "<Figure size 640x480 with 2 Axes>"
            ],
            "image/png": "[encoded data removed]"
          },
          "metadata": {}
        },
        {
          "output_type": "stream",
          "name": "stdout",
          "text": [
            "Accuracy: 0.75\n",
            "F1 Score: 0.75\n"
          ]
        }
      ],
      "source": [
        "evaluate_model(nvb)"
      ]
    },
    {
      "cell_type": "markdown",
      "metadata": {
        "id": "rIM9JObNva5d"
      },
      "source": [
        "using random forest classifier"
      ]
    },
    {
      "cell_type": "code",
      "execution_count": 347,
      "metadata": {
        "id": "M0Eb-l2xtKQw"
      },
      "outputs": [],
      "source": [
        "from sklearn.ensemble import RandomForestClassifier"
      ]
    },
    {
      "cell_type": "code",
      "execution_count": 348,
      "metadata": {
        "id": "SFvSyLUjurQS"
      },
      "outputs": [],
      "source": [
        "rfc = RandomForestClassifier(class_weight=\"balanced\")"
      ]
    },
    {
      "cell_type": "code",
      "execution_count": 349,
      "metadata": {
        "colab": {
          "base_uri": "https://localhost:8080/",
          "height": 812
        },
        "id": "PiOeNropuuKu",
        "outputId": "1a07dc14-602d-450e-e802-1ca3de0b33f4"
      },
      "outputs": [
        {
          "output_type": "stream",
          "name": "stdout",
          "text": [
            "RandomForestClassifier(class_weight='balanced')\n",
            "              precision    recall  f1-score   support\n",
            "\n",
            "    business       0.64      0.61      0.63       209\n",
            "   education       0.76      0.63      0.69       134\n",
            " music-radio       0.80      0.75      0.77       174\n",
            "    politics       0.72      0.81      0.76       234\n",
            "      sports       0.89      0.79      0.84       227\n",
            "   tv-movies       0.60      0.75      0.67       153\n",
            "\n",
            "    accuracy                           0.73      1131\n",
            "   macro avg       0.73      0.72      0.73      1131\n",
            "weighted avg       0.74      0.73      0.73      1131\n",
            "\n"
          ]
        },
        {
          "output_type": "display_data",
          "data": {
            "text/plain": [
              "<Figure size 1200x1000 with 0 Axes>"
            ]
          },
          "metadata": {}
        },
        {
          "output_type": "display_data",
          "data": {
            "text/plain": [
              "<Figure size 640x480 with 2 Axes>"
            ],
            "image/png": "[encoded data removed]"
          },
          "metadata": {}
        },
        {
          "output_type": "stream",
          "name": "stdout",
          "text": [
            "Accuracy: 0.73\n",
            "F1 Score: 0.73\n"
          ]
        }
      ],
      "source": [
        "evaluate_model(rfc)"
      ]
    },
    {
      "cell_type": "code",
      "execution_count": 350,
      "metadata": {
        "id": "D8rGeHAuuw4L"
      },
      "outputs": [],
      "source": [
        "param_grid = {\n",
        "    'n_estimators': [10, 50, 100, 200],\n",
        "    'max_depth': [None, 10, 20, 30],\n",
        "    'min_samples_split': [2, 5, 10],\n",
        "}"
      ]
    },
    {
      "cell_type": "code",
      "execution_count": 351,
      "metadata": {
        "id": "PHK6wLPTvQIO"
      },
      "outputs": [],
      "source": [
        "rfc_grid = GridSearchCV(rfc, param_grid, cv=cv, scoring='f1_weighted')"
      ]
    },
    {
      "cell_type": "code",
      "execution_count": 352,
      "metadata": {
        "id": "oEqJyHTSvTsl",
        "colab": {
          "base_uri": "https://localhost:8080/",
          "height": 899
        },
        "outputId": "57c7c7a8-57cb-4bb8-a26a-eaf193fe7eac"
      },
      "outputs": [
        {
          "output_type": "stream",
          "name": "stdout",
          "text": [
            "GridSearchCV(cv=StratifiedKFold(n_splits=5, random_state=101, shuffle=True),\n",
            "             estimator=RandomForestClassifier(class_weight='balanced'),\n",
            "             param_grid={'max_depth': [None, 10, 20, 30],\n",
            "                         'min_samples_split': [2, 5, 10],\n",
            "                         'n_estimators': [10, 50, 100, 200]},\n",
            "             scoring='f1_weighted')\n",
            "              precision    recall  f1-score   support\n",
            "\n",
            "    business       0.66      0.62      0.64       209\n",
            "   education       0.73      0.66      0.69       134\n",
            " music-radio       0.82      0.76      0.79       174\n",
            "    politics       0.72      0.80      0.76       234\n",
            "      sports       0.90      0.79      0.84       227\n",
            "   tv-movies       0.59      0.74      0.66       153\n",
            "\n",
            "    accuracy                           0.73      1131\n",
            "   macro avg       0.74      0.73      0.73      1131\n",
            "weighted avg       0.74      0.73      0.74      1131\n",
            "\n"
          ]
        },
        {
          "output_type": "display_data",
          "data": {
            "text/plain": [
              "<Figure size 1200x1000 with 0 Axes>"
            ]
          },
          "metadata": {}
        },
        {
          "output_type": "display_data",
          "data": {
            "text/plain": [
              "<Figure size 640x480 with 2 Axes>"
            ],
            "image/png": "[encoded data removed]"
          },
          "metadata": {}
        },
        {
          "output_type": "stream",
          "name": "stdout",
          "text": [
            "Accuracy: 0.73\n",
            "F1 Score: 0.74\n"
          ]
        }
      ],
      "source": [
        "evaluate_model(rfc_grid)"
      ]
    },
    {
      "cell_type": "markdown",
      "metadata": {
        "id": "wA3zJ_MKwFjK"
      },
      "source": [
        "using gradient boosting"
      ]
    },
    {
      "cell_type": "code",
      "execution_count": 353,
      "metadata": {
        "id": "Xncq1XKkvVSd"
      },
      "outputs": [],
      "source": [
        "from sklearn.ensemble import GradientBoostingClassifier"
      ]
    },
    {
      "cell_type": "code",
      "execution_count": null,
      "metadata": {
        "id": "9uFyw8k6wJkW"
      },
      "outputs": [],
      "source": [
        "gbc = GradientBoostingClassifier()"
      ]
    },
    {
      "cell_type": "code",
      "execution_count": null,
      "metadata": {
        "id": "90KbfdcxwOub"
      },
      "outputs": [],
      "source": [
        "evaluate_model(gbc)"
      ]
    },
    {
      "cell_type": "code",
      "execution_count": null,
      "metadata": {
        "id": "1C9Oov8vxts-"
      },
      "outputs": [],
      "source": [
        "param_grid = {\n",
        "    'n_estimators': [10, 50, 100, 200],\n",
        "    'learning_rate': [0.01, 0.1, 1],\n",
        "    'max_depth': [3, 5, 7],\n",
        "}"
      ]
    },
    {
      "cell_type": "code",
      "execution_count": null,
      "metadata": {
        "id": "sdqxOmTOwQry"
      },
      "outputs": [],
      "source": [
        "# cross  validation with gradient boosting\n",
        "gbc_grid = GridSearchCV(gbc, param_grid, cv=cv, scoring='f1_weighted')"
      ]
    },
    {
      "cell_type": "code",
      "execution_count": null,
      "metadata": {
        "id": "vLEHd-jDxx5Z"
      },
      "outputs": [],
      "source": [
        "evaluate_model(gbc_grid)"
      ]
    },
    {
      "cell_type": "markdown",
      "source": [
        "Using XGB"
      ],
      "metadata": {
        "id": "GpjHdDgqCeWj"
      }
    },
    {
      "cell_type": "code",
      "execution_count": null,
      "metadata": {
        "id": "z27n-rfcxzYw"
      },
      "outputs": [],
      "source": [
        "from xgboost import XGBClassifier"
      ]
    },
    {
      "cell_type": "code",
      "execution_count": null,
      "metadata": {
        "id": "JagS1PVDz17R"
      },
      "outputs": [],
      "source": [
        "xgb = XGBClassifier()"
      ]
    },
    {
      "cell_type": "code",
      "execution_count": null,
      "metadata": {
        "id": "GUW9iIOXz54K"
      },
      "outputs": [],
      "source": [
        "evaluate_model(xgb)"
      ]
    },
    {
      "cell_type": "code",
      "execution_count": null,
      "metadata": {
        "id": "wbiQTjvG0G-7"
      },
      "outputs": [],
      "source": [
        "models = {\n",
        "    \"Base log\": base_log,\n",
        "    \"Log CV\": log_model,\n",
        "    \"Base KNN\": base_knn,\n",
        "    \"KNN CV\": knn_grid,\n",
        "    \"Base SVC\": base_svc,\n",
        "    \"SVC CV\": svc_grid,\n",
        "    \"Linear SVC\": linear_svc,\n",
        "    \"NVB\": nvb,\n",
        "    \"RFC\": rfc,\n",
        "    \"RFC CV\": rfc_grid,\n",
        "    \"GBC\": gbc,\n",
        "    \"GBC CV\": gbc_grid,\n",
        "    \"XGB\": xgb\n",
        "}"
      ]
    },
    {
      "cell_type": "code",
      "execution_count": null,
      "metadata": {
        "id": "W9d38mlXrtVD"
      },
      "outputs": [],
      "source": [
        "model_names = []\n",
        "accuracy_scores = []\n",
        "micro_f1_scores = []\n",
        "macro_f1_scores = []\n",
        "weighted_f1_scores = []\n",
        "\n",
        "def evaluate_models(model_name, model):\n",
        "    y_pred = model.predict(X_test)\n",
        "\n",
        "    model_names.append(model_names)\n",
        "\n",
        "    accuracy_score_ = accuracy_score(y_test_encoded, y_pred)\n",
        "    accuracy_scores.append(accuracy_score_)\n",
        "\n",
        "    micro_f1 = f1_score(y_test_encoded, y_pred, average='micro')\n",
        "    micro_f1_scores.append(micro_f1)\n",
        "\n",
        "    macro_f1 = f1_score(y_test_encoded, y_pred, average='macro')\n",
        "    macro_f1_scores.append(macro_f1)\n",
        "\n",
        "    weighted_f1 = f1_score(y_test_encoded, y_pred, average='weighted')\n",
        "    weighted_f1_scores.append(weighted_f1)"
      ]
    },
    {
      "cell_type": "code",
      "execution_count": null,
      "metadata": {
        "id": "7REDChlL8Iiv"
      },
      "outputs": [],
      "source": [
        "for model_name, model in models.items():\n",
        "  evaluate_models(model_name, model)"
      ]
    },
    {
      "cell_type": "code",
      "execution_count": null,
      "metadata": {
        "id": "Tz7jFfBPrwjF"
      },
      "outputs": [],
      "source": [
        "model_comparison = pd.DataFrame({\n",
        "    \"Model\": model_names,\n",
        "    \"Accuracy\": accuracy_scores,\n",
        "    \"Micro F1\": micro_f1_scores,\n",
        "    \"Macro F1\": macro_f1_scores,\n",
        "    \"Weighted F1\": weighted_f1_scores\n",
        "    })"
      ]
    },
    {
      "cell_type": "code",
      "execution_count": null,
      "metadata": {
        "id": "IiK01wqz1fxQ"
      },
      "outputs": [],
      "source": [
        "model_comparison"
      ]
    },
    {
      "cell_type": "code",
      "execution_count": null,
      "metadata": {
        "id": "bt4epZ7R49eO"
      },
      "outputs": [],
      "source": [
        "final_model = nvb"
      ]
    },
    {
      "cell_type": "code",
      "execution_count": null,
      "metadata": {
        "id": "Chacpq0F5AVY"
      },
      "outputs": [],
      "source": [
        "X_train_final = vectoriser.fit_transform(X)"
      ]
    },
    {
      "cell_type": "code",
      "execution_count": null,
      "metadata": {
        "id": "7hVVXYkq5BPb"
      },
      "outputs": [],
      "source": [
        "y_train_final = y"
      ]
    },
    {
      "cell_type": "code",
      "execution_count": null,
      "metadata": {
        "id": "yMlrrKme5B9G"
      },
      "outputs": [],
      "source": [
        "final_model.fit(X_train_final, y_train_final)"
      ]
    },
    {
      "cell_type": "markdown",
      "metadata": {
        "id": "OuAjZesm5bC3"
      },
      "source": [
        "Saving the model"
      ]
    },
    {
      "cell_type": "code",
      "execution_count": null,
      "metadata": {
        "id": "f-gq60C85XO-"
      },
      "outputs": [],
      "source": [
        "import joblib"
      ]
    },
    {
      "cell_type": "code",
      "execution_count": null,
      "metadata": {
        "id": "PJpYQLZ-5fKG"
      },
      "outputs": [],
      "source": [
        "joblib.dump(final_model, \"final_model.joblib\")"
      ]
    },
    {
      "cell_type": "code",
      "execution_count": null,
      "metadata": {
        "id": "vg8btneE5jh7"
      },
      "outputs": [],
      "source": [
        "joblib.dump(vectoriser, \"vectoriser.joblib\")"
      ]
    },
    {
      "cell_type": "code",
      "execution_count": null,
      "metadata": {
        "id": "FZs5-OcjPDAd"
      },
      "outputs": [],
      "source": [
        "from google.colab import files"
      ]
    },
    {
      "cell_type": "code",
      "execution_count": null,
      "metadata": {
        "id": "X33Eqb6IZ5zN"
      },
      "outputs": [],
      "source": [
        "files.download(\"final_model.joblib\")"
      ]
    },
    {
      "cell_type": "code",
      "execution_count": null,
      "metadata": {
        "id": "L5gBeZxOZ8ZB"
      },
      "outputs": [],
      "source": [
        "files.download(\"vectoriser.joblib\")"
      ]
    },
    {
      "cell_type": "code",
      "execution_count": null,
      "metadata": {
        "id": "5ulTIBYzkzuV"
      },
      "outputs": [],
      "source": []
    }
  ],
  "metadata": {
    "colab": {
      "provenance": []
    },
    "kernelspec": {
      "display_name": "Python 3",
      "name": "python3"
    },
    "language_info": {
      "name": "python"
    }
  },
  "nbformat": 4,
  "nbformat_minor": 0
}